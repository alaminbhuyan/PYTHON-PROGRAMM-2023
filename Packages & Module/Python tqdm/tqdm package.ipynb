{
 "cells": [
  {
   "cell_type": "code",
   "execution_count": 1,
   "id": "5381762e-143b-47b6-9d2f-b134a5ccb7d4",
   "metadata": {},
   "outputs": [],
   "source": [
    "import tqdm as tm\n",
    "from tqdm import tqdm\n",
    "from time import sleep"
   ]
  },
  {
   "cell_type": "code",
   "execution_count": 2,
   "id": "8b7877d4-e6e9-48a8-b915-762623dd7b85",
   "metadata": {
    "scrolled": true,
    "tags": []
   },
   "outputs": [
    {
     "data": {
      "text/plain": [
       "['TMonitor',\n",
       " 'TqdmDeprecationWarning',\n",
       " 'TqdmExperimentalWarning',\n",
       " 'TqdmKeyError',\n",
       " 'TqdmMonitorWarning',\n",
       " 'TqdmSynchronisationWarning',\n",
       " 'TqdmTypeError',\n",
       " 'TqdmWarning',\n",
       " '__all__',\n",
       " '__builtins__',\n",
       " '__cached__',\n",
       " '__doc__',\n",
       " '__file__',\n",
       " '__loader__',\n",
       " '__name__',\n",
       " '__package__',\n",
       " '__path__',\n",
       " '__spec__',\n",
       " '__version__',\n",
       " '_dist_ver',\n",
       " '_monitor',\n",
       " '_tqdm_pandas',\n",
       " 'cli',\n",
       " 'gui',\n",
       " 'main',\n",
       " 'std',\n",
       " 'tgrange',\n",
       " 'tnrange',\n",
       " 'tqdm',\n",
       " 'tqdm_gui',\n",
       " 'tqdm_notebook',\n",
       " 'tqdm_pandas',\n",
       " 'trange',\n",
       " 'utils',\n",
       " 'version']"
      ]
     },
     "execution_count": 2,
     "metadata": {},
     "output_type": "execute_result"
    }
   ],
   "source": [
    "dir(tm)"
   ]
  },
  {
   "cell_type": "code",
   "execution_count": 3,
   "id": "9dac485f-64a5-4e32-8b26-afa82fb86839",
   "metadata": {
    "scrolled": true,
    "tags": []
   },
   "outputs": [
    {
     "data": {
      "text/plain": [
       "['__bool__',\n",
       " '__class__',\n",
       " '__contains__',\n",
       " '__del__',\n",
       " '__delattr__',\n",
       " '__dict__',\n",
       " '__dir__',\n",
       " '__doc__',\n",
       " '__enter__',\n",
       " '__eq__',\n",
       " '__exit__',\n",
       " '__format__',\n",
       " '__ge__',\n",
       " '__getattribute__',\n",
       " '__gt__',\n",
       " '__hash__',\n",
       " '__init__',\n",
       " '__init_subclass__',\n",
       " '__iter__',\n",
       " '__le__',\n",
       " '__len__',\n",
       " '__lt__',\n",
       " '__module__',\n",
       " '__ne__',\n",
       " '__new__',\n",
       " '__nonzero__',\n",
       " '__reduce__',\n",
       " '__reduce_ex__',\n",
       " '__repr__',\n",
       " '__reversed__',\n",
       " '__setattr__',\n",
       " '__sizeof__',\n",
       " '__str__',\n",
       " '__subclasshook__',\n",
       " '__weakref__',\n",
       " '_comparable',\n",
       " '_decr_instances',\n",
       " '_get_free_pos',\n",
       " '_instances',\n",
       " 'clear',\n",
       " 'close',\n",
       " 'display',\n",
       " 'external_write_mode',\n",
       " 'format_dict',\n",
       " 'format_interval',\n",
       " 'format_meter',\n",
       " 'format_num',\n",
       " 'format_sizeof',\n",
       " 'get_lock',\n",
       " 'monitor',\n",
       " 'monitor_interval',\n",
       " 'moveto',\n",
       " 'pandas',\n",
       " 'refresh',\n",
       " 'reset',\n",
       " 'set_description',\n",
       " 'set_description_str',\n",
       " 'set_lock',\n",
       " 'set_postfix',\n",
       " 'set_postfix_str',\n",
       " 'status_printer',\n",
       " 'unpause',\n",
       " 'update',\n",
       " 'wrapattr',\n",
       " 'write']"
      ]
     },
     "execution_count": 3,
     "metadata": {},
     "output_type": "execute_result"
    }
   ],
   "source": [
    "dir(tqdm)"
   ]
  },
  {
   "cell_type": "code",
   "execution_count": 4,
   "id": "23d42439-2001-49fc-bf2d-7f3f080165e7",
   "metadata": {},
   "outputs": [
    {
     "name": "stderr",
     "output_type": "stream",
     "text": [
      "100%|████████████████████████████████████████████| 600000/600000 [00:00<00:00, 1667947.43it/s]\n"
     ]
    }
   ],
   "source": [
    "for i in tqdm(range(int(6e+5))):\n",
    "    pass"
   ]
  },
  {
   "cell_type": "code",
   "execution_count": 5,
   "id": "3f5d1296-6995-4fea-9183-b3fb499572de",
   "metadata": {},
   "outputs": [
    {
     "name": "stderr",
     "output_type": "stream",
     "text": [
      "100%|\u001b[32m████████████████████████████████████████████\u001b[0m| 600000/600000 [00:00<00:00, 2099524.46it/s]\u001b[0m\n"
     ]
    }
   ],
   "source": [
    "for i in tqdm(range(int(6e+5)), colour=\"green\"):\n",
    "    pass"
   ]
  },
  {
   "cell_type": "code",
   "execution_count": 6,
   "id": "36753a34-2e03-47c1-86f3-ea6fb724124e",
   "metadata": {},
   "outputs": [
    {
     "name": "stderr",
     "output_type": "stream",
     "text": [
      "Text you want: 100%|\u001b[31m████████████████████████████████████████\u001b[0m| 100/100 [00:11<00:00,  8.99it/s]\u001b[0m\n"
     ]
    }
   ],
   "source": [
    "# desc: You can use this parameter to specify the description of your progress bar as follows\n",
    "\n",
    "for i in tqdm(range(0, 100), desc=\"Text you want: \",colour='red'):\n",
    "    sleep(0.1)"
   ]
  },
  {
   "cell_type": "code",
   "execution_count": 7,
   "id": "7b300311-775f-409a-9075-eb5384418c54",
   "metadata": {},
   "outputs": [
    {
     "name": "stderr",
     "output_type": "stream",
     "text": [
      "Text you want:  20%|\u001b[31m████████                                \u001b[0m| 100/500 [00:11<00:44,  9.03it/s]\u001b[0m\n"
     ]
    }
   ],
   "source": [
    "# total: This is used to specify the total number of expected iterations if not specified already or needs modification\n",
    "\n",
    "for i in tqdm(range(0, 100), desc=\"Text you want: \", total=500, colour='red'):\n",
    "    sleep(0.1)"
   ]
  },
  {
   "cell_type": "code",
   "execution_count": 8,
   "id": "efcc70e6-5208-415a-97a8-51672a888481",
   "metadata": {},
   "outputs": [],
   "source": [
    "# disable: This parameter can be used if you want to completely disable the progress bar.\n",
    "\n",
    "for i in tqdm(range(0, 100), desc=\"Text you want: \", colour='blue', disable=True):\n",
    "    sleep(0.01)"
   ]
  },
  {
   "cell_type": "code",
   "execution_count": 9,
   "id": "213627fc-15fc-488d-82c2-9ddba0963214",
   "metadata": {},
   "outputs": [
    {
     "name": "stderr",
     "output_type": "stream",
     "text": [
      "Text you want: 100%|\u001b[34m██████████████████████████████████████████████████████████████████\u001b[0m| 100/100 [00:01<00:00, 60.76it/s]\u001b[0m\n"
     ]
    }
   ],
   "source": [
    "# ncols: This parameter is used to specify the entire width of the output message. \n",
    "# If left unspecified it remains dynamic to the size of the window. This can be fixed through the ncols parameter.\n",
    "\n",
    "for i in tqdm(range(0, 100), desc=\"Text you want: \", colour='blue', ncols=120):\n",
    "    sleep(0.01)"
   ]
  },
  {
   "cell_type": "code",
   "execution_count": 10,
   "id": "f1ac8629-b253-43a0-8e74-8c4afc15e21d",
   "metadata": {},
   "outputs": [
    {
     "name": "stderr",
     "output_type": "stream",
     "text": [
      "Text you want: 100%|\u001b[34m████████████████████████████████████████\u001b[0m| 100/100 [00:01<00:00, 62.24it/s]\u001b[0m\n"
     ]
    }
   ],
   "source": [
    "# mininterval: You can easily change the minimum progress display update using this option. The default is to 0.1 seconds.\n",
    "\n",
    "for i in tqdm(range(0, 100), desc=\"Text you want: \", colour='blue', mininterval=3):\n",
    "    sleep(0.01)"
   ]
  },
  {
   "cell_type": "code",
   "execution_count": 11,
   "id": "9d6ce316-88de-49ab-9f74-7747cba65496",
   "metadata": {},
   "outputs": [
    {
     "name": "stderr",
     "output_type": "stream",
     "text": [
      "Text you want: 100%|\u001b[34m$$$$$$$$$$$$$$$$$$$$\u001b[0m| 100/100 [00:01<00:00, 62.90it/s]\u001b[0m\n"
     ]
    }
   ],
   "source": [
    "# ascii: You can use ASCII characters to fill the progress bar as per your liking.\n",
    "\n",
    "for i in tqdm(range(0, 100), desc=\"Text you want: \", colour='blue', ascii=\"123456789$\"):\n",
    "    sleep(0.01)"
   ]
  },
  {
   "cell_type": "code",
   "execution_count": 12,
   "id": "dd6c9e49-4098-4128-b806-f3fb0b1d7460",
   "metadata": {},
   "outputs": [
    {
     "name": "stderr",
     "output_type": "stream",
     "text": [
      "Text you want: 100%|\u001b[34m████████████████████████████████████\u001b[0m| 100/100 [00:01<00:00, 62.98 ticks/s]\u001b[0m\n"
     ]
    }
   ],
   "source": [
    "# unit: The default unit of time is “it” and can be changed by using this parameter to your preferred unit.\n",
    "\n",
    "for i in tqdm(range(0, 100), desc=\"Text you want: \", colour='blue', unit=\" ticks\"):\n",
    "    sleep(0.01)"
   ]
  },
  {
   "cell_type": "code",
   "execution_count": 13,
   "id": "63913b21-54b6-4470-b666-2c75f60b12be",
   "metadata": {},
   "outputs": [
    {
     "name": "stderr",
     "output_type": "stream",
     "text": [
      "Text you want: : 170it [00:01, 62.98it/s]                                                     2.65it/s]\u001b[0m\n"
     ]
    }
   ],
   "source": [
    "# initial: The initial value of the progress bar starts from 0. \n",
    "# If you wish to change this, you can use this parameter to initialize the progress bar from the value you wish \n",
    "\n",
    "for i in tqdm(range(0, 100), desc=\"Text you want: \", colour='blue', initial=70):\n",
    "    sleep(0.01)\n",
    "    \n",
    "# The counter would start from 50 and the progress bar would disappear after the final counter is reached. \n",
    "# The loop would still run until the iteration is complete. "
   ]
  },
  {
   "cell_type": "code",
   "execution_count": 18,
   "id": "37d07692-0ac1-48af-8809-3314efcdd04e",
   "metadata": {},
   "outputs": [],
   "source": [
    "from tqdm.notebook import trange"
   ]
  },
  {
   "cell_type": "code",
   "execution_count": 20,
   "id": "5b694e7b-3fa3-4c9d-8c19-aeba003ed620",
   "metadata": {},
   "outputs": [
    {
     "data": {
      "application/vnd.jupyter.widget-view+json": {
       "model_id": "e8e88e5384f94113a02d2da0f5f913c3",
       "version_major": 2,
       "version_minor": 0
      },
      "text/plain": [
       "1st loop:   0%|          | 0/5 [00:00<?, ?it/s]"
      ]
     },
     "metadata": {},
     "output_type": "display_data"
    },
    {
     "data": {
      "application/vnd.jupyter.widget-view+json": {
       "model_id": "01ce155613b641f1b882953f645b71bd",
       "version_major": 2,
       "version_minor": 0
      },
      "text/plain": [
       "2nd loop:   0%|          | 0/10 [00:00<?, ?it/s]"
      ]
     },
     "metadata": {},
     "output_type": "display_data"
    },
    {
     "data": {
      "application/vnd.jupyter.widget-view+json": {
       "model_id": "2b93dceafdd14e349441742f3cba970f",
       "version_major": 2,
       "version_minor": 0
      },
      "text/plain": [
       "2nd loop:   0%|          | 0/10 [00:00<?, ?it/s]"
      ]
     },
     "metadata": {},
     "output_type": "display_data"
    },
    {
     "data": {
      "application/vnd.jupyter.widget-view+json": {
       "model_id": "5493b5667d5742f29aa0c3938175189f",
       "version_major": 2,
       "version_minor": 0
      },
      "text/plain": [
       "2nd loop:   0%|          | 0/10 [00:00<?, ?it/s]"
      ]
     },
     "metadata": {},
     "output_type": "display_data"
    },
    {
     "data": {
      "application/vnd.jupyter.widget-view+json": {
       "model_id": "178f64317134490cae94bd4736ecd360",
       "version_major": 2,
       "version_minor": 0
      },
      "text/plain": [
       "2nd loop:   0%|          | 0/10 [00:00<?, ?it/s]"
      ]
     },
     "metadata": {},
     "output_type": "display_data"
    },
    {
     "data": {
      "application/vnd.jupyter.widget-view+json": {
       "model_id": "2e66f6c98ca3443ea69b90cec05b7189",
       "version_major": 2,
       "version_minor": 0
      },
      "text/plain": [
       "2nd loop:   0%|          | 0/10 [00:00<?, ?it/s]"
      ]
     },
     "metadata": {},
     "output_type": "display_data"
    }
   ],
   "source": [
    "for i in trange(5, desc='1st loop'):\n",
    "    for j in trange(10, desc='2nd loop'):\n",
    "        sleep(0.01)"
   ]
  },
  {
   "cell_type": "code",
   "execution_count": 23,
   "id": "1d670a32-cacf-42db-8b78-69a35612bd0d",
   "metadata": {},
   "outputs": [
    {
     "name": "stderr",
     "output_type": "stream",
     "text": [
      "1st loop:   0%|\u001b[31m                                                        \u001b[0m| 0/10 [00:00<?, ?it/s]\u001b[0m\n",
      "2nd loop: 100%|\u001b[32m█████████████████████████████████████████████████\u001b[0m| 5/5 [00:00<00:00, 58.18it/s]\u001b[0m\u001b[A\n",
      "\n",
      "2nd loop: 100%|\u001b[32m█████████████████████████████████████████████████\u001b[0m| 5/5 [00:00<00:00, 56.86it/s]\u001b[0m\u001b[A\n",
      "1st loop:  20%|\u001b[31m█████████▌                                      \u001b[0m| 2/10 [00:00<00:00, 10.76it/s]\u001b[0m\n",
      "2nd loop: 100%|\u001b[32m█████████████████████████████████████████████████\u001b[0m| 5/5 [00:00<00:00, 66.72it/s]\u001b[0m\u001b[A\n",
      "\n",
      "2nd loop: 100%|\u001b[32m█████████████████████████████████████████████████\u001b[0m| 5/5 [00:00<00:00, 67.62it/s]\u001b[0m\u001b[A\n",
      "1st loop:  40%|\u001b[31m███████████████████▏                            \u001b[0m| 4/10 [00:00<00:00, 11.81it/s]\u001b[0m\n",
      "2nd loop: 100%|\u001b[32m█████████████████████████████████████████████████\u001b[0m| 5/5 [00:00<00:00, 57.52it/s]\u001b[0m\u001b[A\n",
      "\n",
      "2nd loop: 100%|\u001b[32m█████████████████████████████████████████████████\u001b[0m| 5/5 [00:00<00:00, 65.84it/s]\u001b[0m\u001b[A\n",
      "1st loop:  60%|\u001b[31m████████████████████████████▊                   \u001b[0m| 6/10 [00:00<00:00, 11.60it/s]\u001b[0m\n",
      "2nd loop: 100%|\u001b[32m█████████████████████████████████████████████████\u001b[0m| 5/5 [00:00<00:00, 66.72it/s]\u001b[0m\u001b[A\n",
      "\n",
      "2nd loop: 100%|\u001b[32m█████████████████████████████████████████████████\u001b[0m| 5/5 [00:00<00:00, 68.55it/s]\u001b[0m\u001b[A\n",
      "1st loop:  80%|\u001b[31m██████████████████████████████████████▍         \u001b[0m| 8/10 [00:00<00:00, 12.00it/s]\u001b[0m\n",
      "2nd loop: 100%|\u001b[32m█████████████████████████████████████████████████\u001b[0m| 5/5 [00:00<00:00, 66.72it/s]\u001b[0m\u001b[A\n",
      "\n",
      "2nd loop: 100%|\u001b[32m█████████████████████████████████████████████████\u001b[0m| 5/5 [00:00<00:00, 66.72it/s]\u001b[0m\u001b[A\n",
      "1st loop: 100%|\u001b[31m███████████████████████████████████████████████\u001b[0m| 10/10 [00:00<00:00, 11.93it/s]\u001b[0m\n"
     ]
    }
   ],
   "source": [
    "for i in tqdm(range(10), desc=\"1st loop\", colour=\"red\"):\n",
    "    for j in tqdm(range(5), desc=\"2nd loop\", colour=\"green\"):\n",
    "        sleep(0.01)"
   ]
  }
 ],
 "metadata": {
  "kernelspec": {
   "display_name": "Python 3 (ipykernel)",
   "language": "python",
   "name": "python3"
  },
  "language_info": {
   "codemirror_mode": {
    "name": "ipython",
    "version": 3
   },
   "file_extension": ".py",
   "mimetype": "text/x-python",
   "name": "python",
   "nbconvert_exporter": "python",
   "pygments_lexer": "ipython3",
   "version": "3.10.5"
  }
 },
 "nbformat": 4,
 "nbformat_minor": 5
}
