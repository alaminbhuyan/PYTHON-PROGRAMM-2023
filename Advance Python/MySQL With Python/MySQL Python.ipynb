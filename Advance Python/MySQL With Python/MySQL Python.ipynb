{
 "cells": [
  {
   "cell_type": "markdown",
   "id": "0e2aed4e-73e3-4c22-a778-e375d2a887f3",
   "metadata": {},
   "source": [
    "### Link: https://dev.mysql.com/doc/connector-python/en/"
   ]
  },
  {
   "cell_type": "code",
   "execution_count": 1,
   "id": "24b6145b-69e7-49fd-85f9-9a82febc8c21",
   "metadata": {},
   "outputs": [],
   "source": [
    "import mysql.connector"
   ]
  },
  {
   "cell_type": "markdown",
   "id": "b8eff944-bdf8-40dc-9435-32506ea5e248",
   "metadata": {},
   "source": [
    "### Create Connection"
   ]
  },
  {
   "cell_type": "code",
   "execution_count": 2,
   "id": "ba27433e-9f03-4ad4-9ad2-fc3256b888d4",
   "metadata": {},
   "outputs": [],
   "source": [
    "mydb = mysql.connector.connect(host='localhost', user='root', password='')"
   ]
  },
  {
   "cell_type": "code",
   "execution_count": 3,
   "id": "78fa671c-523a-4d14-9acc-0054cd636955",
   "metadata": {},
   "outputs": [
    {
     "name": "stdout",
     "output_type": "stream",
     "text": [
      "<mysql.connector.connection_cext.CMySQLConnection object at 0x00000215BECE0CA0>\n"
     ]
    }
   ],
   "source": [
    "print(mydb)"
   ]
  },
  {
   "cell_type": "markdown",
   "id": "401a9dc6-d1fb-45d7-82ad-719f09e61714",
   "metadata": {},
   "source": [
    "### Creating a Database"
   ]
  },
  {
   "cell_type": "code",
   "execution_count": 4,
   "id": "1e0f79f2-5267-4a11-8294-78b383a30a6e",
   "metadata": {},
   "outputs": [],
   "source": [
    "# mydb2 = mysql.connector.connect(host='localhost', user='root', password='', database=\"mydatabase\")\n",
    "\n",
    "mydb2 = mysql.connector.connect(host='localhost', user='root', password='')\n",
    "\n",
    "# Create a cursor to do operation in database table\n",
    "mycursor = mydb2.cursor()\n",
    "\n",
    "mycursor.execute(\"\"\" CREATE DATABASE testdb \"\"\")"
   ]
  },
  {
   "cell_type": "markdown",
   "id": "7c7e87e6-edde-4f51-ae37-015e0fe4a3b4",
   "metadata": {},
   "source": [
    "### Check if Database Exists\n",
    "\n",
    "You can check if a database exist by listing all databases in your system by using the \"SHOW DATABASES\" statement"
   ]
  },
  {
   "cell_type": "code",
   "execution_count": 5,
   "id": "ae969c9f-ccf9-4f7c-bf77-ca5f70c7dcfc",
   "metadata": {},
   "outputs": [
    {
     "name": "stdout",
     "output_type": "stream",
     "text": [
      "Database Name: ('information_schema',)\n",
      "Database Name: ('mysql',)\n",
      "Database Name: ('performance_schema',)\n",
      "Database Name: ('phpmyadmin',)\n",
      "Database Name: ('test',)\n",
      "Database Name: ('testdb',)\n",
      "Database Name: ('todoapp',)\n",
      "Database Name: ('w3schools',)\n"
     ]
    }
   ],
   "source": [
    "mycursor.execute(\"SHOW DATABASES\")\n",
    "\n",
    "for x in mycursor:\n",
    "    print(f\"Database Name: {x}\")"
   ]
  },
  {
   "cell_type": "markdown",
   "id": "00680f6c-ef0c-4bae-9c4b-aa0bb37bc72d",
   "metadata": {},
   "source": [
    "### Before Check if Table Exists or not"
   ]
  },
  {
   "cell_type": "code",
   "execution_count": 6,
   "id": "b6c5ebe5-9c1d-4d80-86ce-06e6e6ec3b8e",
   "metadata": {},
   "outputs": [
    {
     "name": "stdout",
     "output_type": "stream",
     "text": [
      "Yes ('categories',)\n",
      "Yes ('customers',)\n",
      "Yes ('employees',)\n",
      "Yes ('order_details',)\n",
      "Yes ('orders',)\n",
      "Yes ('products',)\n",
      "Yes ('shippers',)\n",
      "Yes ('suppliers',)\n"
     ]
    }
   ],
   "source": [
    "mydb3 = mysql.connector.connect(host='localhost', user='root', password='', database=\"w3schools\")\n",
    "\n",
    "# Create a cursor to do operation in database table\n",
    "mycursor2 = mydb3.cursor()\n",
    "\n",
    "mycursor2.execute(\"SHOW TABLES\")\n",
    "\n",
    "for x in mycursor2:\n",
    "    if x:\n",
    "        print(\"Yes\", x)\n",
    "    else:\n",
    "        print(\"No\")"
   ]
  },
  {
   "cell_type": "markdown",
   "id": "d8f546a0-bea8-4dd0-a01f-c0fe8611bac9",
   "metadata": {},
   "source": [
    "### Creating a Table"
   ]
  },
  {
   "cell_type": "code",
   "execution_count": 7,
   "id": "6a17b510-ede5-469b-9ee6-adae2c8600b1",
   "metadata": {},
   "outputs": [],
   "source": [
    "mydb4 = mysql.connector.connect(host='localhost', user='root', password='', database=\"testdb\")\n",
    "\n",
    "# Create a cursor to do operation in database table\n",
    "mycursor4 = mydb4.cursor()\n",
    "\n",
    "mycursor4.execute(\"CREATE TABLE customers (id INT NOT NULL AUTO_INCREMENT PRIMARY KEY, name VARCHAR(255), address VARCHAR(255))\")"
   ]
  },
  {
   "cell_type": "code",
   "execution_count": 8,
   "id": "4e13cee9-0989-4893-91a5-245925f4c728",
   "metadata": {},
   "outputs": [],
   "source": [
    "# If the table already exists, use the ALTER TABLE keyword\n",
    "\n",
    "mycursor4.execute(\"ALTER TABLE customers ADD Email VARCHAR(255) NOT NULL\")"
   ]
  },
  {
   "cell_type": "markdown",
   "id": "5ab4d6ed-9593-42aa-b178-b097848ba40b",
   "metadata": {},
   "source": [
    "### Insert Into Table"
   ]
  },
  {
   "cell_type": "markdown",
   "id": "28d05a81-164b-4774-ae2a-5d4ab32edf9d",
   "metadata": {},
   "source": [
    "##### Important!: Notice the statement: mydb.commit(). It is required to make the changes, otherwise no changes are made to the table."
   ]
  },
  {
   "cell_type": "code",
   "execution_count": 9,
   "id": "1620e9b5-6f40-4889-97c7-2d01e3ef25ca",
   "metadata": {},
   "outputs": [
    {
     "name": "stdout",
     "output_type": "stream",
     "text": [
      "1 record inserted.\n"
     ]
    }
   ],
   "source": [
    "sql_query = \"INSERT INTO customers(name, address, email) VALUES(%s, %s, %s)\"\n",
    "\n",
    "all_value = (\"Alamin Bhuyan\", \"Fidabadh Chowrasta, Uttara\", \"alaminbhuyan321@gmail.com\")\n",
    "\n",
    "# mycursor4.execute(operation, params=(), multi=False)\n",
    "\n",
    "mycursor4.execute(sql_query, all_value)\n",
    "\n",
    "mydb4.commit()\n",
    "print(mycursor4.rowcount, \"record inserted.\")"
   ]
  },
  {
   "cell_type": "markdown",
   "id": "9513113d-c2af-4158-935d-e7044571dd95",
   "metadata": {},
   "source": [
    "### Insert Multiple Rows"
   ]
  },
  {
   "cell_type": "code",
   "execution_count": 10,
   "id": "0bda4897-5bb4-40c0-8f13-bee6a8382e22",
   "metadata": {},
   "outputs": [
    {
     "name": "stdout",
     "output_type": "stream",
     "text": [
      "6 record inserted.\n",
      "1 record inserted, ID: 2\n"
     ]
    }
   ],
   "source": [
    "sql = \"INSERT INTO customers(name, address, email) VALUES(%s, %s, %s)\"\n",
    "val = [\n",
    "  ('Peter', 'Lowstreet 4', 'alaminbhuyan321@gmail.com\"'),\n",
    "  ('Amy', 'Apple st 652', 'alaminbhuyan322@gmail.com\"'),\n",
    "  ('Hannah', 'Mountain 21', 'alaminbhuyan323@gmail.com\"'),\n",
    "  ('Michael', 'Valley 345', 'alaminbhuyan324@gmail.com\"'),\n",
    "  ('Sandy', 'Ocean blvd 2', 'alaminbhuyan325@gmail.com\"'),\n",
    "  ('Betty', 'Green Grass 1', 'alaminbhuyan326@gmail.com\"'),\n",
    "]\n",
    "\n",
    "mycursor4.executemany(sql, val)\n",
    "\n",
    "mydb4.commit()\n",
    "\n",
    "print(mycursor4.rowcount, \"record inserted.\")\n",
    "print(\"1 record inserted, ID:\", mycursor4.lastrowid)"
   ]
  },
  {
   "cell_type": "markdown",
   "id": "03beb4e4-d38b-44d3-9ea5-63a3ac228f43",
   "metadata": {},
   "source": [
    "### Select From a Table"
   ]
  },
  {
   "cell_type": "code",
   "execution_count": 11,
   "id": "0666aa4d-d28a-4827-ae45-58cd92425de3",
   "metadata": {},
   "outputs": [
    {
     "name": "stdout",
     "output_type": "stream",
     "text": [
      "(1, 'Alamin Bhuyan', 'Fidabadh Chowrasta, Uttara', 'alaminbhuyan321@gmail.com')\n",
      "(2, 'Peter', 'Lowstreet 4', 'alaminbhuyan321@gmail.com\"')\n",
      "(3, 'Amy', 'Apple st 652', 'alaminbhuyan322@gmail.com\"')\n",
      "(4, 'Hannah', 'Mountain 21', 'alaminbhuyan323@gmail.com\"')\n",
      "(5, 'Michael', 'Valley 345', 'alaminbhuyan324@gmail.com\"')\n",
      "(6, 'Sandy', 'Ocean blvd 2', 'alaminbhuyan325@gmail.com\"')\n",
      "(7, 'Betty', 'Green Grass 1', 'alaminbhuyan326@gmail.com\"')\n"
     ]
    }
   ],
   "source": [
    "# Note: We use the fetchall() method, which fetches all rows from the last executed statement.\n",
    "\n",
    "mycursor4.execute(\"SELECT * from customers\")\n",
    "\n",
    "result = mycursor4.fetchall()\n",
    "\n",
    "for i in result:\n",
    "    print(i)"
   ]
  },
  {
   "cell_type": "markdown",
   "id": "52a237fe-b0bd-4465-a139-942118ba39a6",
   "metadata": {},
   "source": [
    "### Selecting Columns"
   ]
  },
  {
   "cell_type": "code",
   "execution_count": 12,
   "id": "395a1160-acdc-46c3-a626-ff0600b7c3fb",
   "metadata": {},
   "outputs": [
    {
     "name": "stdout",
     "output_type": "stream",
     "text": [
      "('Alamin Bhuyan', 'alaminbhuyan321@gmail.com')\n",
      "('Peter', 'alaminbhuyan321@gmail.com\"')\n",
      "('Amy', 'alaminbhuyan322@gmail.com\"')\n",
      "('Hannah', 'alaminbhuyan323@gmail.com\"')\n",
      "('Michael', 'alaminbhuyan324@gmail.com\"')\n",
      "('Sandy', 'alaminbhuyan325@gmail.com\"')\n",
      "('Betty', 'alaminbhuyan326@gmail.com\"')\n"
     ]
    }
   ],
   "source": [
    "# Fetch specific column\n",
    "\n",
    "mycursor4.execute(\"SELECT name, email FROM customers\")\n",
    "\n",
    "result = mycursor4.fetchall()\n",
    "\n",
    "for i in result:\n",
    "    print(i)"
   ]
  },
  {
   "cell_type": "markdown",
   "id": "b89009a2-cb5f-4a14-b27e-a3046d20cfa9",
   "metadata": {},
   "source": [
    "### Using the fetchone() Method\n",
    "\n",
    "If you are only interested in one row, you can use the fetchone() method.\n",
    "\n",
    "The fetchone() method will return the first row of the result"
   ]
  },
  {
   "cell_type": "code",
   "execution_count": 13,
   "id": "319b9095-fbeb-4c36-8d46-20c82bb2308d",
   "metadata": {},
   "outputs": [
    {
     "name": "stdout",
     "output_type": "stream",
     "text": [
      "1\n",
      "Alamin Bhuyan\n",
      "Fidabadh Chowrasta, Uttara\n",
      "alaminbhuyan321@gmail.com\n"
     ]
    }
   ],
   "source": [
    "mycursor4.execute(\"SELECT * from customers\")\n",
    "\n",
    "result = mycursor4.fetchone()\n",
    "\n",
    "for i in result:\n",
    "    print(i)"
   ]
  },
  {
   "cell_type": "markdown",
   "id": "9923cb56-a712-4942-adce-44e68bed25d2",
   "metadata": {},
   "source": [
    "### Select With a Filter\n",
    "When selecting records from a table, you can filter the selection by using the \"WHERE\" statement"
   ]
  },
  {
   "cell_type": "code",
   "execution_count": 14,
   "id": "d8c4af49-c7be-4ac9-8bf5-fcccc3bc816e",
   "metadata": {},
   "outputs": [
    {
     "name": "stdout",
     "output_type": "stream",
     "text": [
      "(1, 'Alfreds Futterkiste', 'Maria Anders', 'Obere Str. 57', 'Berlin', '12209', 'Germany')\n",
      "(6, 'Blauer See Delikatessen', 'Hanna Moos', 'Forsterstr. 57', 'Mannheim', '68306', 'Germany')\n",
      "(17, 'Drachenblut Delikatessend', 'Sven Ottlieb', 'Walserweg 21', 'Aachen', '52066', 'Germany')\n",
      "(25, 'Frankenversand', 'Peter Franken', 'Berliner Platz 43', 'München', '80805', 'Germany')\n",
      "(39, 'Königlich Essen', 'Philip Cramer', 'Maubelstr. 90', 'Brandenburg', '14776', 'Germany')\n",
      "(44, 'Lehmanns Marktstand', 'Renate Messner', 'Magazinweg 7', 'Frankfurt a.M.', '60528', 'Germany')\n",
      "(52, 'Morgenstern Gesundkost', 'Alexander Feuer', 'Heerstr. 22', 'Leipzig', '04179', 'Germany')\n",
      "(56, 'Ottilies Käseladen', 'Henriette Pfalzheim', 'Mehrheimerstr. 369', 'Köln', '50739', 'Germany')\n",
      "(63, 'QUICK-Stop', 'Horst Kloss', 'Taucherstraße 10', 'Cunewalde', '01307', 'Germany')\n",
      "(79, 'Toms Spezialitäten', 'Karin Josephs', 'Luisenstr. 48', 'Münster', '44087', 'Germany')\n",
      "(86, 'Die Wandernde Kuh', 'Rita Müller', 'Adenauerallee 900', 'Stuttgart', '70563', 'Germany')\n"
     ]
    }
   ],
   "source": [
    "mydb5 = mysql.connector.connect(host='localhost', user='root', password='', database='w3schools')\n",
    "\n",
    "new_cursor = mydb5.cursor()\n",
    "\n",
    "my_sql = \"SELECT * FROM customers WHERE Country = 'Germany'\"\n",
    "\n",
    "new_cursor.execute(my_sql)\n",
    "\n",
    "my_result = new_cursor.fetchall()\n",
    "\n",
    "for i in my_result:\n",
    "    print(i)\n"
   ]
  },
  {
   "cell_type": "markdown",
   "id": "6a9000e8-e004-4583-a320-da41e4ab40e9",
   "metadata": {},
   "source": [
    "### Wildcard Characters\n",
    "You can also select the records that starts, includes, or ends with a given letter or phrase.\n",
    "\n",
    "Use the %  to represent wildcard characters"
   ]
  },
  {
   "cell_type": "code",
   "execution_count": 15,
   "id": "e9bed0e3-4bf2-49ce-b970-f2e2a437c20a",
   "metadata": {},
   "outputs": [
    {
     "name": "stdout",
     "output_type": "stream",
     "text": [
      "(1, 'Alamin Bhuyan', 'Fidabadh Chowrasta, Uttara', 'alaminbhuyan321@gmail.com')\n",
      "(3, 'Amy', 'Apple st 652', 'alaminbhuyan322@gmail.com\"')\n"
     ]
    }
   ],
   "source": [
    "mydb4 = mysql.connector.connect(host='localhost', user='root', password='', database=\"testdb\")\n",
    "\n",
    "# Create a cursor to do operation in database table\n",
    "mycursor4 = mydb4.cursor()\n",
    "\n",
    "sql = \"SELECT * FROM customers WHERE name LIKE '%am%'\"\n",
    "\n",
    "mycursor4.execute(sql)\n",
    "\n",
    "result = mycursor4.fetchall()\n",
    "\n",
    "for i in result:\n",
    "    print(i)"
   ]
  },
  {
   "cell_type": "markdown",
   "id": "d5952447-fc5e-41a2-8dea-956a42482f6b",
   "metadata": {},
   "source": [
    "### Prevent SQL Injection\n",
    "When query values are provided by the user, you should escape the values.\n",
    "\n",
    "This is to prevent SQL injections, which is a common web hacking technique to destroy or misuse your database.\n",
    "\n",
    "The mysql.connector module has methods to escape query values"
   ]
  },
  {
   "cell_type": "code",
   "execution_count": 16,
   "id": "c7412dc7-afea-425b-9780-2d48f30a8df6",
   "metadata": {},
   "outputs": [
    {
     "name": "stdout",
     "output_type": "stream",
     "text": [
      "(2, 'Peter', 'Lowstreet 4', 'alaminbhuyan321@gmail.com\"')\n"
     ]
    }
   ],
   "source": [
    "mydb4 = mysql.connector.connect(host='localhost', user='root', password='', database=\"testdb\")\n",
    "\n",
    "# Create a cursor to do operation in database table\n",
    "mycursor4 = mydb4.cursor()\n",
    "\n",
    "sql = \"SELECT * FROM customers WHERE name = %s\"\n",
    "\n",
    "adr = (\"Peter\", )\n",
    "\n",
    "mycursor4.execute(sql, adr)\n",
    "\n",
    "myresult = mycursor4.fetchall()\n",
    "\n",
    "for x in myresult:\n",
    "    print(x)"
   ]
  },
  {
   "cell_type": "markdown",
   "id": "3798f254-20ba-496a-83b5-1ccdcf74b671",
   "metadata": {},
   "source": [
    "### ORDER BY DESC"
   ]
  },
  {
   "cell_type": "code",
   "execution_count": 17,
   "id": "9a279bc8-9fc7-44f7-a0e5-c4533fa7b2be",
   "metadata": {},
   "outputs": [
    {
     "name": "stdout",
     "output_type": "stream",
     "text": [
      "(6, 'Sandy', 'Ocean blvd 2', 'alaminbhuyan325@gmail.com\"')\n",
      "(2, 'Peter', 'Lowstreet 4', 'alaminbhuyan321@gmail.com\"')\n",
      "(5, 'Michael', 'Valley 345', 'alaminbhuyan324@gmail.com\"')\n",
      "(4, 'Hannah', 'Mountain 21', 'alaminbhuyan323@gmail.com\"')\n",
      "(7, 'Betty', 'Green Grass 1', 'alaminbhuyan326@gmail.com\"')\n",
      "(3, 'Amy', 'Apple st 652', 'alaminbhuyan322@gmail.com\"')\n",
      "(1, 'Alamin Bhuyan', 'Fidabadh Chowrasta, Uttara', 'alaminbhuyan321@gmail.com')\n"
     ]
    }
   ],
   "source": [
    "mydb4 = mysql.connector.connect(host='localhost', user='root', password='', database=\"testdb\")\n",
    "\n",
    "# Create a cursor to do operation in database table\n",
    "mycursor4 = mydb4.cursor()\n",
    "\n",
    "sql = \"SELECT * FROM customers ORDER BY name DESC\"\n",
    "\n",
    "mycursor4.execute(sql)\n",
    "\n",
    "myresult = mycursor4.fetchall()\n",
    "\n",
    "for x in myresult:\n",
    "    print(x)"
   ]
  },
  {
   "cell_type": "markdown",
   "id": "75605329-bc6e-4022-a6bc-1a10d976a45b",
   "metadata": {},
   "source": [
    "### Delete with Prevent SQL Injection\n",
    "It is considered a good practice to escape the values of any query, also in delete statements.\n",
    "\n",
    "This is to prevent SQL injections, which is a common web hacking technique to destroy or misuse your database.\n",
    "\n",
    "The mysql.connector module uses the placeholder %s to escape values in the delete statement"
   ]
  },
  {
   "cell_type": "code",
   "execution_count": 18,
   "id": "0ef5960f-08fb-4139-b2ee-5202e3d7279b",
   "metadata": {},
   "outputs": [
    {
     "name": "stdout",
     "output_type": "stream",
     "text": [
      "1 record(s) deleted\n"
     ]
    }
   ],
   "source": [
    "mydb4 = mysql.connector.connect(host='localhost', user='root', password='', database=\"testdb\")\n",
    "\n",
    "# Create a cursor to do operation in database table\n",
    "mycursor4 = mydb4.cursor()\n",
    "\n",
    "sql = \"\"\"DELETE FROM customers WHERE name = %s\"\"\"\n",
    "\n",
    "adr = (\"Alamin Bhuyan\", )\n",
    "\n",
    "mycursor4.execute(sql, adr)\n",
    "\n",
    "mydb4.commit()\n",
    "\n",
    "print(mycursor4.rowcount, \"record(s) deleted\")"
   ]
  },
  {
   "cell_type": "markdown",
   "id": "8c286dc5-fe8a-438e-a6b3-160414e21f94",
   "metadata": {},
   "source": [
    "### Delete a Table with if table is exists"
   ]
  },
  {
   "cell_type": "code",
   "execution_count": 19,
   "id": "9775dfdb-9e4b-4b9b-97cc-a6a6c04f62c8",
   "metadata": {},
   "outputs": [],
   "source": [
    "# sql = \"DROP TABLE customers\"\n",
    "\n",
    "# sql = \"DROP TABLE IF EXISTS customers\"\n",
    "\n",
    "# mycursor.execute(sql)"
   ]
  },
  {
   "cell_type": "markdown",
   "id": "7121f6ef-38f3-49b7-8b43-f62b19ea5ca5",
   "metadata": {},
   "source": [
    "### Update table with Prevent SQL Injection\n",
    "It is considered a good practice to escape the values of any query, also in update statements.\n",
    "\n",
    "This is to prevent SQL injections, which is a common web hacking technique to destroy or misuse your database.\n",
    "\n",
    "The mysql.connector module uses the placeholder %s to escape values in the delete statement"
   ]
  },
  {
   "cell_type": "code",
   "execution_count": 20,
   "id": "11f77284-0205-40e0-be86-5eb0668a123b",
   "metadata": {},
   "outputs": [
    {
     "name": "stdout",
     "output_type": "stream",
     "text": [
      "0 record(s) affected\n"
     ]
    }
   ],
   "source": [
    "sql = \"UPDATE customers SET address = %s WHERE address = %s\"\n",
    "\n",
    "val = (\"Valley 345\", \"Canyon 123\")\n",
    "\n",
    "mycursor4.execute(sql, val)\n",
    "\n",
    "mydb4.commit()\n",
    "\n",
    "print(mycursor4.rowcount, \"record(s) affected\")"
   ]
  },
  {
   "cell_type": "code",
   "execution_count": null,
   "id": "00cc6484-1e51-4be9-9d97-5dc1d3a8da4c",
   "metadata": {},
   "outputs": [],
   "source": []
  }
 ],
 "metadata": {
  "kernelspec": {
   "display_name": "Python 3 (ipykernel)",
   "language": "python",
   "name": "python3"
  },
  "language_info": {
   "codemirror_mode": {
    "name": "ipython",
    "version": 3
   },
   "file_extension": ".py",
   "mimetype": "text/x-python",
   "name": "python",
   "nbconvert_exporter": "python",
   "pygments_lexer": "ipython3",
   "version": "3.10.5"
  }
 },
 "nbformat": 4,
 "nbformat_minor": 5
}
