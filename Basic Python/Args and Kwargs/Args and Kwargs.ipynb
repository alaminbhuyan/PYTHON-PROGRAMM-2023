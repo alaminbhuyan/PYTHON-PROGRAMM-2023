{
 "cells": [
  {
   "cell_type": "markdown",
   "id": "58cad5bf-9404-4ed9-816b-db750a3e898b",
   "metadata": {},
   "source": [
    "### In Python, we can pass a variable number of arguments to a function using special symbols. There are two special symbols:\n",
    "\n",
    "*args (Non Keyword Arguments)\n",
    "**kwargs (Keyword Arguments)\n",
    "We use *args and **kwargs as an argument when we are unsure about the number of arguments to pass in the functions."
   ]
  },
  {
   "cell_type": "markdown",
   "id": "a09e4ad4-b258-4346-a830-d303b05c0cc1",
   "metadata": {},
   "source": [
    "## Use of *args"
   ]
  },
  {
   "cell_type": "code",
   "execution_count": 1,
   "id": "5f1c4233-3ea7-4d59-b458-be1b04149a2d",
   "metadata": {},
   "outputs": [
    {
     "name": "stdout",
     "output_type": "stream",
     "text": [
      "The arguments are: (2, 3) and Type of the arguments: <class 'tuple'>\n"
     ]
    }
   ],
   "source": [
    "def add(*args):\n",
    "    print(f\"The arguments are: {args} and Type of the arguments: {type(args)}\")\n",
    "\n",
    "    \n",
    "add(2,3)"
   ]
  },
  {
   "cell_type": "code",
   "execution_count": 2,
   "id": "e24b41f7-a189-4fb6-b697-5279782b2bf4",
   "metadata": {},
   "outputs": [
    {
     "name": "stdout",
     "output_type": "stream",
     "text": [
      "5\n",
      "10\n",
      "17\n",
      "26\n"
     ]
    }
   ],
   "source": [
    "def add(*numbers):\n",
    "    total = 0\n",
    "    for num in numbers:\n",
    "        total += num\n",
    "    return total\n",
    "\n",
    "\n",
    "print(add(2, 3))\n",
    "print(add(2, 3, 5))\n",
    "print(add(2, 3, 5, 7))\n",
    "print(add(2, 3, 5, 7, 9))"
   ]
  },
  {
   "cell_type": "code",
   "execution_count": 3,
   "id": "252a76d8-1724-4fc0-ae60-ee778e2d491c",
   "metadata": {},
   "outputs": [
    {
     "name": "stdout",
     "output_type": "stream",
     "text": [
      "1 2 3 4 5 6 7 8\n"
     ]
    }
   ],
   "source": [
    "# Simple hack. We can unzip list or tuple or set using * simbol\n",
    "\n",
    "data = (1,2,3,4,5,6,7,8)\n",
    "\n",
    "print(*data)"
   ]
  },
  {
   "cell_type": "code",
   "execution_count": 4,
   "id": "b6575ebb-7989-4caa-bfa6-762649f585bf",
   "metadata": {},
   "outputs": [
    {
     "name": "stdout",
     "output_type": "stream",
     "text": [
      "36\n"
     ]
    }
   ],
   "source": [
    "print(add(*data))"
   ]
  },
  {
   "cell_type": "code",
   "execution_count": 5,
   "id": "d12f7d70-b82b-4b8c-b70a-30e2db7a4132",
   "metadata": {},
   "outputs": [
    {
     "name": "stdout",
     "output_type": "stream",
     "text": [
      "60\n"
     ]
    }
   ],
   "source": [
    "def add2(num,*num2):\n",
    "    total2 = 0\n",
    "    for i in num2:\n",
    "        total2 = (num*i)+total2\n",
    "    print(total2)\n",
    "\n",
    "add2(2,5,5,5,15)"
   ]
  },
  {
   "cell_type": "markdown",
   "id": "292196e6-3c72-41cd-adf2-fec2c62b0766",
   "metadata": {},
   "source": [
    "## Use of **kwargs"
   ]
  },
  {
   "cell_type": "code",
   "execution_count": 6,
   "id": "9c5a6a12-522f-45a6-8be0-e08a889e9f8b",
   "metadata": {},
   "outputs": [
    {
     "name": "stdout",
     "output_type": "stream",
     "text": [
      "The arguments are: {'banana': 5, 'mango': 7, 'apple': 8} and Type of the arguments: <class 'dict'>\n"
     ]
    }
   ],
   "source": [
    "def total_fruits(**kwargs):\n",
    "    print(f\"The arguments are: {kwargs} and Type of the arguments: {type(kwargs)}\")\n",
    "\n",
    "\n",
    "total_fruits(banana=5, mango=7, apple=8)"
   ]
  },
  {
   "cell_type": "code",
   "execution_count": 7,
   "id": "0e9b9152-6ed3-4182-acff-4787ba4b0338",
   "metadata": {},
   "outputs": [
    {
     "name": "stdout",
     "output_type": "stream",
     "text": [
      "20\n",
      "30\n",
      "12\n"
     ]
    }
   ],
   "source": [
    "# since **kwargs is dict type so, we can use all the dict method here\n",
    "\n",
    "def total_fruits(**fruits):\n",
    "    total = 0\n",
    "    for amount in fruits.values():\n",
    "        total += amount\n",
    "    return total\n",
    "\n",
    "\n",
    "print(total_fruits(banana=5, mango=7, apple=8))\n",
    "print(total_fruits(banana=5, mango=7, apple=8, oranges=10))\n",
    "print(total_fruits(banana=5, mango=7))"
   ]
  },
  {
   "cell_type": "code",
   "execution_count": 8,
   "id": "ae601832-3806-4f61-ab42-40d468936bb5",
   "metadata": {},
   "outputs": [
    {
     "name": "stdout",
     "output_type": "stream",
     "text": [
      "banana mango apple oranges\n"
     ]
    }
   ],
   "source": [
    "data = {'banana': 5, 'mango': 7, 'apple': 8, 'oranges': 10}\n",
    "\n",
    "print(*data)"
   ]
  },
  {
   "cell_type": "code",
   "execution_count": 9,
   "id": "738f7827-9c40-4300-92c5-ff26fecfad25",
   "metadata": {},
   "outputs": [
    {
     "name": "stdout",
     "output_type": "stream",
     "text": [
      "30\n"
     ]
    }
   ],
   "source": [
    "print(total_fruits(banana=5, mango=7, apple=8, oranges=10))"
   ]
  },
  {
   "cell_type": "code",
   "execution_count": 10,
   "id": "b2c11952-d869-434d-9269-0a5890d46ab0",
   "metadata": {},
   "outputs": [
    {
     "name": "stdout",
     "output_type": "stream",
     "text": [
      "first == Geeks\n",
      "mid == for\n",
      "last == Geeks\n"
     ]
    }
   ],
   "source": [
    "def myFun(**kwargs):\n",
    "    for key, value in kwargs.items():\n",
    "        print(\"%s == %s\" % (key, value))\n",
    "  \n",
    "  \n",
    "# Driver code\n",
    "myFun(first='Geeks', mid='for', last='Geeks')"
   ]
  },
  {
   "cell_type": "code",
   "execution_count": 11,
   "id": "4bfb33de-5acf-4f84-ba54-d473073bcd3b",
   "metadata": {},
   "outputs": [
    {
     "name": "stdout",
     "output_type": "stream",
     "text": [
      "first == Geeks\n",
      "Hi\n",
      "mid == for\n",
      "Hi\n",
      "last == Geeks\n",
      "Hi\n"
     ]
    }
   ],
   "source": [
    "def myFun(arg1, **kwargs):\n",
    "    for key, value in kwargs.items():\n",
    "        print(\"%s == %s\" % (key, value))\n",
    "        print(arg1)\n",
    "  \n",
    "  \n",
    "# Driver code\n",
    "myFun(\"Hi\", first='Geeks', mid='for', last='Geeks')"
   ]
  },
  {
   "cell_type": "markdown",
   "id": "efd4e874-fde7-40cb-b17c-62b054cae87e",
   "metadata": {},
   "source": [
    "## Use of *args and **kwargs together"
   ]
  },
  {
   "cell_type": "code",
   "execution_count": 12,
   "id": "0f74a556-0fea-4af0-b1f3-ac2e04199d63",
   "metadata": {},
   "outputs": [
    {
     "name": "stdout",
     "output_type": "stream",
     "text": [
      "(12, 13, 14)\n",
      "{'stu_id': 1030, 'name': 'alamin', 'section': '47-A'}\n"
     ]
    }
   ],
   "source": [
    "def function(*args,**kwargs):\n",
    "    print(args)\n",
    "    print(kwargs)\n",
    "\n",
    "function(12, 13, 14, stu_id = 1030, name = 'alamin', section = '47-A')"
   ]
  },
  {
   "cell_type": "code",
   "execution_count": 13,
   "id": "98890eef-6573-4790-997b-178d1de94b5c",
   "metadata": {},
   "outputs": [
    {
     "name": "stdout",
     "output_type": "stream",
     "text": [
      "args:  ('geeks', 'for', 'geeks')\n",
      "kwargs:  {'first': 'Geeks', 'mid': 'for', 'last': 'Geeks'}\n"
     ]
    }
   ],
   "source": [
    "def myFun(*args, **kwargs):\n",
    "    print(\"args: \", args)\n",
    "    print(\"kwargs: \", kwargs)\n",
    "  \n",
    "  \n",
    "\n",
    "myFun('geeks', 'for', 'geeks', first=\"Geeks\", mid=\"for\", last=\"Geeks\")"
   ]
  },
  {
   "cell_type": "code",
   "execution_count": 14,
   "id": "a711afef-3f8f-416e-a07a-40e629666bbd",
   "metadata": {},
   "outputs": [
    {
     "name": "stdout",
     "output_type": "stream",
     "text": [
      "args:  ('geeks', 'for', 'geeks')\n"
     ]
    }
   ],
   "source": [
    "def myFun2(*args, **kwargs):\n",
    "    print(\"args: \", args)\n",
    "  \n",
    "  \n",
    "\n",
    "myFun2('geeks', 'for', 'geeks')"
   ]
  },
  {
   "cell_type": "markdown",
   "id": "e70e1e2b-7dc7-4c1a-87fa-efcaa87e47c8",
   "metadata": {},
   "source": [
    "## Using class"
   ]
  },
  {
   "cell_type": "code",
   "execution_count": 15,
   "id": "f9c944e7-a759-4b59-951d-874e52f079a4",
   "metadata": {},
   "outputs": [
    {
     "name": "stdout",
     "output_type": "stream",
     "text": [
      "first: 10, second: 20, age: 23, gender: Female\n"
     ]
    }
   ],
   "source": [
    "class Animal:\n",
    "    def __init__(self, *args, **kwargs):\n",
    "        self.first = args[0]\n",
    "        self.second = args[1]\n",
    "        self.age = kwargs['age']\n",
    "        self.gender = kwargs['gender']\n",
    "    \n",
    "    def display(self):\n",
    "        print(f\"first: {self.first}, second: {self.second}, age: {self.age}, gender: {self.gender}\")\n",
    "\n",
    "        \n",
    "        \n",
    "dog = Animal(10, 20, age=23, gender='Female')\n",
    "\n",
    "dog.display()"
   ]
  },
  {
   "cell_type": "code",
   "execution_count": null,
   "id": "7d016075-a5b1-43ef-824d-668087876480",
   "metadata": {},
   "outputs": [],
   "source": []
  }
 ],
 "metadata": {
  "kernelspec": {
   "display_name": "Python 3 (ipykernel)",
   "language": "python",
   "name": "python3"
  },
  "language_info": {
   "codemirror_mode": {
    "name": "ipython",
    "version": 3
   },
   "file_extension": ".py",
   "mimetype": "text/x-python",
   "name": "python",
   "nbconvert_exporter": "python",
   "pygments_lexer": "ipython3",
   "version": "3.10.5"
  }
 },
 "nbformat": 4,
 "nbformat_minor": 5
}
