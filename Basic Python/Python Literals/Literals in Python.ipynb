{
 "cells": [
  {
   "cell_type": "markdown",
   "id": "00bf67ce-8be4-4022-b80b-da34a9b7a2e5",
   "metadata": {},
   "source": [
    "## Literals\n",
    "\n",
    "Literal is a raw data given in a variable. In Python, there are various types of literals they are as follows:\n",
    "\n",
    "1) Numeric Literals\n",
    "\n",
    "2) String Literals\n",
    "\n",
    "3) Boolean Literals\n",
    "\n",
    "4) Special Literals"
   ]
  },
  {
   "cell_type": "markdown",
   "id": "fba25fc6-63d6-44a4-ba8c-afbd658adb29",
   "metadata": {},
   "source": [
    "## 1) Numerical Literals"
   ]
  },
  {
   "cell_type": "code",
   "execution_count": 1,
   "id": "9c608e44-0b3f-47ed-b4c7-8523f53dd83c",
   "metadata": {},
   "outputs": [
    {
     "name": "stdout",
     "output_type": "stream",
     "text": [
      "10 100 200 300\n"
     ]
    }
   ],
   "source": [
    "a = 0b1010 # Binary Literals\n",
    "\n",
    "b = 100 # Decimal Literals\n",
    "\n",
    "c = 0o310 # Octal Literals\n",
    "\n",
    "d = 0x12c # Hexadecimal Literals\n",
    "\n",
    "\n",
    "print(a, b, c, d)"
   ]
  },
  {
   "cell_type": "code",
   "execution_count": 2,
   "id": "801ae744-743d-408a-bee6-149af94ce61f",
   "metadata": {},
   "outputs": [
    {
     "name": "stdout",
     "output_type": "stream",
     "text": [
      "10.5 | 150.0 | 0.0015\n"
     ]
    }
   ],
   "source": [
    "# Float literal\n",
    "float_1 = 10.5\n",
    "float_2 = 1.5e2\n",
    "float_3 = 1.5e-3\n",
    "\n",
    "print(float_1, float_2, float_3, sep=\" | \")"
   ]
  },
  {
   "cell_type": "code",
   "execution_count": 3,
   "id": "d90d8e8e-85fb-4712-a7c2-2eefbba73cff",
   "metadata": {},
   "outputs": [
    {
     "name": "stdout",
     "output_type": "stream",
     "text": [
      "3.13j\n",
      "3.13\n",
      "0.0\n"
     ]
    }
   ],
   "source": [
    "# Complex literals\n",
    "\n",
    "x = 3.13j\n",
    "\n",
    "print(x)\n",
    "print(x.imag)\n",
    "print(x.real)"
   ]
  },
  {
   "cell_type": "markdown",
   "id": "265ce57e-3fba-4e90-95dc-2521765635c8",
   "metadata": {},
   "source": [
    "## 2) String Literals"
   ]
  },
  {
   "cell_type": "code",
   "execution_count": 4,
   "id": "2d2a6552-dc34-4843-b12a-bfb6f6849044",
   "metadata": {},
   "outputs": [
    {
     "name": "stdout",
     "output_type": "stream",
     "text": [
      "This is Python\n",
      "This is Python\n",
      "C\n",
      "This is a multiline string with more than one line code.\n",
      "😀😆🤣\n",
      "raw \\n string\n"
     ]
    }
   ],
   "source": [
    "string = 'This is Python'\n",
    "\n",
    "strings = \"This is Python\"\n",
    "\n",
    "char = \"C\"\n",
    "\n",
    "multiline_str = \"\"\"This is a multiline string with more than one line code.\"\"\"\n",
    "\n",
    "unicode = u\"\\U0001f600\\U0001F606\\U0001F923\"\n",
    "\n",
    "raw_str = r\"raw \\n string\"\n",
    "\n",
    "print(string)\n",
    "print(strings)\n",
    "print(char)\n",
    "print(multiline_str)\n",
    "print(unicode)\n",
    "print(raw_str)"
   ]
  },
  {
   "cell_type": "markdown",
   "id": "5ab86310-e7f8-4ad2-909b-16b00a4c6e94",
   "metadata": {},
   "source": [
    "## 3) Boolean Literals"
   ]
  },
  {
   "cell_type": "code",
   "execution_count": 5,
   "id": "beb733cf-9ba8-48e5-9c0b-57ff01322b64",
   "metadata": {},
   "outputs": [
    {
     "name": "stdout",
     "output_type": "stream",
     "text": [
      "a:  5\n",
      "b: 10\n"
     ]
    }
   ],
   "source": [
    "a = True + 4 # Here, True consider as 1\n",
    "b = False + 10 # # Here, True consider as 0\n",
    "\n",
    "print(\"a: \", a)\n",
    "print(\"b: {}\".format(b))"
   ]
  },
  {
   "cell_type": "markdown",
   "id": "47c4c45c-0d4a-467d-8389-7b2481fffa53",
   "metadata": {},
   "source": [
    "## 4) Special Literal"
   ]
  },
  {
   "cell_type": "code",
   "execution_count": 6,
   "id": "76cf91ab-4aa4-4c9e-b3e1-8e7378dca934",
   "metadata": {},
   "outputs": [
    {
     "name": "stdout",
     "output_type": "stream",
     "text": [
      "None\n"
     ]
    }
   ],
   "source": [
    "a = None\n",
    "\n",
    "print(a)"
   ]
  },
  {
   "cell_type": "code",
   "execution_count": null,
   "id": "590ed5dd-614a-40bd-ad54-aacc875ff04b",
   "metadata": {},
   "outputs": [],
   "source": []
  }
 ],
 "metadata": {
  "kernelspec": {
   "display_name": "Python 3 (ipykernel)",
   "language": "python",
   "name": "python3"
  },
  "language_info": {
   "codemirror_mode": {
    "name": "ipython",
    "version": 3
   },
   "file_extension": ".py",
   "mimetype": "text/x-python",
   "name": "python",
   "nbconvert_exporter": "python",
   "pygments_lexer": "ipython3",
   "version": "3.10.7"
  }
 },
 "nbformat": 4,
 "nbformat_minor": 5
}
