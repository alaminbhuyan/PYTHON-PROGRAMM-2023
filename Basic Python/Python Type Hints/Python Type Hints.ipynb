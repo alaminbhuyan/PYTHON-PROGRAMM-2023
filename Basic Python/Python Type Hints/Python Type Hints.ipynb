{
 "cells": [
  {
   "cell_type": "markdown",
   "id": "713d6d6f",
   "metadata": {},
   "source": [
    "Blog: https://towardsdatascience.com/12-beginner-concepts-about-type-hints-to-improve-your-python-code-90f1ba0ac49#:~:text=Type%20hints%20are%20performed%20using,not%20enforced%20on%20their%20own."
   ]
  },
  {
   "cell_type": "markdown",
   "id": "df2375f2",
   "metadata": {},
   "source": [
    "`Type hints are performed using Python annotations (introduced since PEP 3107). They are used to add types to variables, parameters, function arguments as well as their return values, class attributes, and methods. Python is a dynamically typed language, which means you never have to explicitly indicate what kind of variable it is. But in some cases, dynamic typing can lead to some bugs that are very difficult to debug, and in those cases, Type Hints or Static Typing can be convenient`"
   ]
  },
  {
   "cell_type": "markdown",
   "id": "3fd857fb",
   "metadata": {},
   "source": [
    "Python Doc: https://docs.python.org/3/library/typing.html"
   ]
  },
  {
   "cell_type": "markdown",
   "id": "1298913e",
   "metadata": {},
   "source": [
    "## Variable Annotations"
   ]
  },
  {
   "cell_type": "code",
   "execution_count": 1,
   "id": "7930a5df",
   "metadata": {},
   "outputs": [],
   "source": [
    "a : int = 100\n",
    "b : float = 12.3\n",
    "c : list = [1,2,3]\n",
    "d : tuple = (1,2,3)\n",
    "e : dict = {'name' : \"alamin\", \"age\" : 23}\n",
    "f : set = {'alamin', 'tania', 'fatema', 'karim'}\n",
    "g : bool = True"
   ]
  },
  {
   "cell_type": "code",
   "execution_count": 2,
   "id": "a9012aab",
   "metadata": {},
   "outputs": [
    {
     "name": "stdout",
     "output_type": "stream",
     "text": [
      "100\n",
      "12.3\n",
      "[1, 2, 3]\n",
      "(1, 2, 3)\n",
      "{'name': 'alamin', 'age': 23}\n",
      "{'karim', 'tania', 'fatema', 'alamin'}\n",
      "True\n"
     ]
    }
   ],
   "source": [
    "print(a)\n",
    "print(b)\n",
    "print(c)\n",
    "print(d)\n",
    "print(e)\n",
    "print(f)\n",
    "print(g)"
   ]
  },
  {
   "cell_type": "markdown",
   "id": "3acd1997",
   "metadata": {},
   "source": [
    "## Function Annotations"
   ]
  },
  {
   "cell_type": "markdown",
   "id": "16591755",
   "metadata": {},
   "source": [
    "`Syntex: def function(parameter : data_type, parameter : data_type) -> return_type`"
   ]
  },
  {
   "cell_type": "code",
   "execution_count": 3,
   "id": "2417ed36",
   "metadata": {},
   "outputs": [
    {
     "name": "stdout",
     "output_type": "stream",
     "text": [
      "20\n",
      "<class 'int'>\n"
     ]
    }
   ],
   "source": [
    "def add_number(num1:int, num2:int) -> int:\n",
    "    return num1 + num2\n",
    "\n",
    "\n",
    "result = add_number(10, 10)\n",
    "\n",
    "print(result)\n",
    "print(type(result))"
   ]
  },
  {
   "cell_type": "code",
   "execution_count": 4,
   "id": "203e4813",
   "metadata": {},
   "outputs": [
    {
     "name": "stdout",
     "output_type": "stream",
     "text": [
      "20.6\n",
      "<class 'float'>\n"
     ]
    }
   ],
   "source": [
    "def add_number(num1:int, num2:float) -> float:\n",
    "    return num1 + num2\n",
    "\n",
    "\n",
    "result = add_number(10, 10.6)\n",
    "\n",
    "print(result)\n",
    "print(type(result))"
   ]
  },
  {
   "cell_type": "code",
   "execution_count": 5,
   "id": "cdfb7397",
   "metadata": {},
   "outputs": [
    {
     "name": "stdout",
     "output_type": "stream",
     "text": [
      "21.4\n",
      "<class 'float'>\n"
     ]
    }
   ],
   "source": [
    "def add_number(num1:int|float, num2:float) -> float:\n",
    "    return num1 + num2\n",
    "\n",
    "\n",
    "result = add_number(10.8, 10.6)\n",
    "\n",
    "print(result)\n",
    "print(type(result))"
   ]
  },
  {
   "cell_type": "markdown",
   "id": "a7459780",
   "metadata": {},
   "source": [
    "## Class Annotations"
   ]
  },
  {
   "cell_type": "code",
   "execution_count": 6,
   "id": "0c736fbd",
   "metadata": {},
   "outputs": [],
   "source": [
    "class Person:\n",
    "    first_name:str = \"Alamin\"\n",
    "    last_name:str = \"Bhuyan\"\n",
    "    age:int = 23\n",
    "\n",
    "        \n",
    "obj = Person()"
   ]
  },
  {
   "cell_type": "code",
   "execution_count": 7,
   "id": "452cd95c",
   "metadata": {},
   "outputs": [
    {
     "data": {
      "text/plain": [
       "23"
      ]
     },
     "execution_count": 7,
     "metadata": {},
     "output_type": "execute_result"
    }
   ],
   "source": [
    "obj.age"
   ]
  },
  {
   "cell_type": "code",
   "execution_count": 8,
   "id": "9a828b0d",
   "metadata": {},
   "outputs": [],
   "source": [
    "# For static type checking we can use mypy\n",
    "# ! pip install mypy"
   ]
  },
  {
   "cell_type": "markdown",
   "id": "727aa1ff",
   "metadata": {},
   "source": [
    "## List"
   ]
  },
  {
   "cell_type": "code",
   "execution_count": 9,
   "id": "dc18589d",
   "metadata": {},
   "outputs": [],
   "source": [
    "import typing\n",
    "from typing import List"
   ]
  },
  {
   "cell_type": "markdown",
   "id": "0506e825",
   "metadata": {},
   "source": [
    "#### If you want to pass a list of float value and you want to specify type using type hint then"
   ]
  },
  {
   "cell_type": "code",
   "execution_count": 10,
   "id": "d7bbba14",
   "metadata": {},
   "outputs": [
    {
     "data": {
      "text/plain": [
       "8.9"
      ]
     },
     "execution_count": 10,
     "metadata": {},
     "output_type": "execute_result"
    }
   ],
   "source": [
    "def myfunc(lis:List[float]):\n",
    "    return sum(lis)\n",
    "\n",
    "\n",
    "myfunc([1.2,3.2,4.5])"
   ]
  },
  {
   "cell_type": "code",
   "execution_count": 11,
   "id": "d567c70f",
   "metadata": {},
   "outputs": [
    {
     "name": "stdout",
     "output_type": "stream",
     "text": [
      "[[1, 2, 3], [4, 5, 6]]\n"
     ]
    }
   ],
   "source": [
    "# For nested list\n",
    "\n",
    "def myfunc(lis:List[List[int]]):\n",
    "    print(lis)\n",
    "\n",
    "myfunc([[1,2,3],[4,5,6]])"
   ]
  },
  {
   "cell_type": "markdown",
   "id": "cc3f2232",
   "metadata": {},
   "source": [
    "## Union"
   ]
  },
  {
   "cell_type": "code",
   "execution_count": 12,
   "id": "e8a79d62",
   "metadata": {},
   "outputs": [],
   "source": [
    "from typing import Union"
   ]
  },
  {
   "cell_type": "code",
   "execution_count": 13,
   "id": "f8ebc973",
   "metadata": {},
   "outputs": [
    {
     "data": {
      "text/plain": [
       "20"
      ]
     },
     "execution_count": 13,
     "metadata": {},
     "output_type": "execute_result"
    }
   ],
   "source": [
    "def add_num(x: Union[int, float], y: Union[int, float]) -> Union[int, float]:\n",
    "    return x + y\n",
    "\n",
    "add_num(10, 10)"
   ]
  },
  {
   "cell_type": "code",
   "execution_count": 14,
   "id": "2fcfca41",
   "metadata": {},
   "outputs": [
    {
     "data": {
      "text/plain": [
       "20.6"
      ]
     },
     "execution_count": 14,
     "metadata": {},
     "output_type": "execute_result"
    }
   ],
   "source": [
    "add_num(10, 10.6)"
   ]
  },
  {
   "cell_type": "code",
   "execution_count": 15,
   "id": "1b277a28",
   "metadata": {},
   "outputs": [
    {
     "data": {
      "text/plain": [
       "20"
      ]
     },
     "execution_count": 15,
     "metadata": {},
     "output_type": "execute_result"
    }
   ],
   "source": [
    "number = Union[int, float]\n",
    "\n",
    "\n",
    "def add_num(x: number, y: number) -> number:\n",
    "    return x + y\n",
    "\n",
    "add_num(10,10)"
   ]
  },
  {
   "cell_type": "markdown",
   "id": "753984dc",
   "metadata": {},
   "source": [
    "## None type\n",
    "If a function doesn’t explicitly returns a value, you can use None to type hint the return value. For example"
   ]
  },
  {
   "cell_type": "code",
   "execution_count": 16,
   "id": "9dc7a3d7",
   "metadata": {},
   "outputs": [],
   "source": [
    "def log(message: str) -> None:\n",
    "    print(message)"
   ]
  }
 ],
 "metadata": {
  "kernelspec": {
   "display_name": "Python 3 (ipykernel)",
   "language": "python",
   "name": "python3"
  },
  "language_info": {
   "codemirror_mode": {
    "name": "ipython",
    "version": 3
   },
   "file_extension": ".py",
   "mimetype": "text/x-python",
   "name": "python",
   "nbconvert_exporter": "python",
   "pygments_lexer": "ipython3",
   "version": "3.10.9"
  }
 },
 "nbformat": 4,
 "nbformat_minor": 5
}
