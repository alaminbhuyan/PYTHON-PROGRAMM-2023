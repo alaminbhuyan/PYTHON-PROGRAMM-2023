{
 "cells": [
  {
   "cell_type": "code",
   "execution_count": 1,
   "id": "18fdb613-7a9d-4476-980b-f6dbdd3fafbd",
   "metadata": {},
   "outputs": [],
   "source": [
    "# Multiplication a number 'n' times\n",
    "\n",
    "# 4*5 = 4 + 4*4; 4 + 4 + 4*3; 4 + 4 + 4 + 4*2; 4 + 4 + 4 + 4 + 4*1\n",
    "\n",
    "def multiplication_num(num, n):\n",
    "    # Base case you have to know\n",
    "    if n == 1:\n",
    "        return num\n",
    "    else:\n",
    "        return num + multiplication_num(num, n-1)"
   ]
  },
  {
   "cell_type": "code",
   "execution_count": 2,
   "id": "4a8468da-ba33-409f-9302-468bedd4a821",
   "metadata": {},
   "outputs": [
    {
     "data": {
      "text/plain": [
       "20"
      ]
     },
     "execution_count": 2,
     "metadata": {},
     "output_type": "execute_result"
    }
   ],
   "source": [
    "multiplication_num(4,5)"
   ]
  },
  {
   "cell_type": "code",
   "execution_count": 3,
   "id": "dfb1660c-9e4e-4cbb-aef4-de54952252ef",
   "metadata": {},
   "outputs": [
    {
     "data": {
      "text/plain": [
       "120"
      ]
     },
     "execution_count": 3,
     "metadata": {},
     "output_type": "execute_result"
    }
   ],
   "source": [
    "# Factorial of a number\n",
    "\n",
    "# 4! = 4 * 3!; 4 * 3 * 2!; 4 * 3 * 2 * 1!\n",
    "\n",
    "def factorial(number: int):\n",
    "    if number == 1:\n",
    "        return number\n",
    "    else:\n",
    "        return number * factorial(number-1)\n",
    "\n",
    "    \n",
    "factorial(5)"
   ]
  },
  {
   "cell_type": "code",
   "execution_count": 4,
   "id": "cca31c96-baaf-4d43-a1d9-26b97598ed61",
   "metadata": {},
   "outputs": [
    {
     "name": "stdout",
     "output_type": "stream",
     "text": [
      "Palindrome\n",
      "Palindrome\n",
      "Not palindrome\n"
     ]
    }
   ],
   "source": [
    "# Palindrome\n",
    "\n",
    "def palindrome(sent: str):\n",
    "    if len(sent) <= 1:\n",
    "        print(\"Palindrome\")\n",
    "    else:\n",
    "        if sent[0] == sent[-1]:\n",
    "            palindrome(sent[1:-1])\n",
    "        else:\n",
    "            print(\"Not palindrome\")\n",
    "\n",
    "            \n",
    "palindrome(\"madam\")\n",
    "palindrome(\"malayalam\")\n",
    "palindrome(\"python\")"
   ]
  }
 ],
 "metadata": {
  "kernelspec": {
   "display_name": "Python 3 (ipykernel)",
   "language": "python",
   "name": "python3"
  },
  "language_info": {
   "codemirror_mode": {
    "name": "ipython",
    "version": 3
   },
   "file_extension": ".py",
   "mimetype": "text/x-python",
   "name": "python",
   "nbconvert_exporter": "python",
   "pygments_lexer": "ipython3",
   "version": "3.10.5"
  }
 },
 "nbformat": 4,
 "nbformat_minor": 5
}
