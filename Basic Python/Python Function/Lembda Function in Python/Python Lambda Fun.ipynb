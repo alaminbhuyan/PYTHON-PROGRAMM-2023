{
 "cells": [
  {
   "cell_type": "markdown",
   "id": "169ba03c-8ba1-4bc7-a1a4-3adf224ccacf",
   "metadata": {},
   "source": [
    "## Syntax: lambda arguments : expression"
   ]
  },
  {
   "cell_type": "markdown",
   "id": "08cd89cf-b039-4bbe-881c-6061d86745d1",
   "metadata": {},
   "source": [
    "### Why Use Lambda Functions?\n",
    "\n",
    "The power of lambda is better shown when you use them as an anonymous function inside another function.\n",
    "\n",
    "Say you have a function definition that takes one argument, and that argument will be multiplied with an unknown number"
   ]
  },
  {
   "cell_type": "code",
   "execution_count": 1,
   "id": "bfbab3ac-a57b-4948-bbb8-78aa070752a7",
   "metadata": {},
   "outputs": [],
   "source": [
    "result = lambda x : x**2"
   ]
  },
  {
   "cell_type": "code",
   "execution_count": 2,
   "id": "b95fbf66-6ca5-4c13-8284-a98bcd334964",
   "metadata": {},
   "outputs": [
    {
     "data": {
      "text/plain": [
       "9"
      ]
     },
     "execution_count": 2,
     "metadata": {},
     "output_type": "execute_result"
    }
   ],
   "source": [
    "result(3)"
   ]
  },
  {
   "cell_type": "markdown",
   "id": "a95a83c2-6dcc-4617-b228-13bf9bda5df0",
   "metadata": {},
   "source": [
    "### add two number"
   ]
  },
  {
   "cell_type": "code",
   "execution_count": 3,
   "id": "a36ccbe0-3ba3-4c99-8607-72d47082dee9",
   "metadata": {},
   "outputs": [
    {
     "data": {
      "text/plain": [
       "10"
      ]
     },
     "execution_count": 3,
     "metadata": {},
     "output_type": "execute_result"
    }
   ],
   "source": [
    "add_two_num = lambda num1, num2 : num1 + num2\n",
    "\n",
    "add_two_num(5, 5)"
   ]
  },
  {
   "cell_type": "code",
   "execution_count": 4,
   "id": "624fb328-5047-4b89-ab7d-ad49b816b037",
   "metadata": {},
   "outputs": [
    {
     "data": {
      "text/plain": [
       "function"
      ]
     },
     "execution_count": 4,
     "metadata": {},
     "output_type": "execute_result"
    }
   ],
   "source": [
    "# lambda return a function\n",
    "type(add_two_num)"
   ]
  },
  {
   "cell_type": "code",
   "execution_count": 5,
   "id": "e21336fe-d52e-4ef6-8301-4420db33317d",
   "metadata": {},
   "outputs": [
    {
     "name": "stdout",
     "output_type": "stream",
     "text": [
      "13\n"
     ]
    }
   ],
   "source": [
    "x = lambda a,b,c:a*b+c\n",
    "\n",
    "print(x(2,4,5))"
   ]
  },
  {
   "cell_type": "code",
   "execution_count": 6,
   "id": "0d97f236-48de-49f7-9ad8-373e0f512529",
   "metadata": {},
   "outputs": [
    {
     "name": "stdout",
     "output_type": "stream",
     "text": [
      "10\n"
     ]
    }
   ],
   "source": [
    "def fun(n):\n",
    "    return lambda a:a*n\n",
    "\n",
    "x = fun(5)\n",
    "print(x(2))"
   ]
  },
  {
   "cell_type": "code",
   "execution_count": 7,
   "id": "4f2be229-0895-4dfa-a9c1-00bf3ef39cb2",
   "metadata": {},
   "outputs": [
    {
     "data": {
      "text/plain": [
       "True"
      ]
     },
     "execution_count": 7,
     "metadata": {},
     "output_type": "execute_result"
    }
   ],
   "source": [
    "# Check given string first leter is a or not\n",
    "\n",
    "b = lambda x : x[0] == 'a'\n",
    "\n",
    "b(\"apple\")"
   ]
  },
  {
   "cell_type": "code",
   "execution_count": 8,
   "id": "649416f3-1950-4163-aba6-2daf56146292",
   "metadata": {},
   "outputs": [
    {
     "data": {
      "text/plain": [
       "False"
      ]
     },
     "execution_count": 8,
     "metadata": {},
     "output_type": "execute_result"
    }
   ],
   "source": [
    "b(\"banana\")"
   ]
  },
  {
   "cell_type": "markdown",
   "id": "870c335b-dc71-4d44-bb26-bad01eaca3ab",
   "metadata": {},
   "source": [
    "## Check even or odd number"
   ]
  },
  {
   "cell_type": "code",
   "execution_count": 9,
   "id": "1f5be2d6-d5db-4631-bdf1-e2f176f6e503",
   "metadata": {},
   "outputs": [
    {
     "data": {
      "text/plain": [
       "'This is Even number'"
      ]
     },
     "execution_count": 9,
     "metadata": {},
     "output_type": "execute_result"
    }
   ],
   "source": [
    "check_even_odd = lambda num : \"This is Even number\" if num % 2 == 0 else \"This is Odd number\"\n",
    "\n",
    "check_even_odd(4)"
   ]
  },
  {
   "cell_type": "code",
   "execution_count": 10,
   "id": "881ebcc9-c60d-4f57-8f8b-bf175b7ea676",
   "metadata": {},
   "outputs": [
    {
     "data": {
      "text/plain": [
       "'This is Odd number'"
      ]
     },
     "execution_count": 10,
     "metadata": {},
     "output_type": "execute_result"
    }
   ],
   "source": [
    "check_even_odd(5)"
   ]
  },
  {
   "cell_type": "code",
   "execution_count": 11,
   "id": "3a5ee2e7-e406-4610-b597-86833c392678",
   "metadata": {},
   "outputs": [
    {
     "data": {
      "text/plain": [
       "'nayuhB nimalA'"
      ]
     },
     "execution_count": 11,
     "metadata": {},
     "output_type": "execute_result"
    }
   ],
   "source": [
    "# Reverse a string\n",
    "\n",
    "name = \"Alamin Bhuyan\"\n",
    "\n",
    "myfunc = lambda x : x[::-1]\n",
    "\n",
    "myfunc(name)"
   ]
  },
  {
   "cell_type": "code",
   "execution_count": 12,
   "id": "fdb5bfd3-7f75-4805-b142-6478aae4de97",
   "metadata": {},
   "outputs": [
    {
     "data": {
      "text/plain": [
       "[1, 4, 9, 16, 25, 36, 49]"
      ]
     },
     "execution_count": 12,
     "metadata": {},
     "output_type": "execute_result"
    }
   ],
   "source": [
    "lis = [1,2,3,4,5,6,7]\n",
    "\n",
    "myfunc = list(map(lambda x : x**2, lis))\n",
    "\n",
    "myfunc"
   ]
  },
  {
   "cell_type": "code",
   "execution_count": 13,
   "id": "08b3bfc2-c441-48ff-8d0a-2731ac45e0f4",
   "metadata": {},
   "outputs": [
    {
     "data": {
      "text/plain": [
       "[11, 12, 13, 14, 15, 16, 17, 18, 19]"
      ]
     },
     "execution_count": 13,
     "metadata": {},
     "output_type": "execute_result"
    }
   ],
   "source": [
    "def between(number, min=0, max=20):\n",
    "    return max > number > min\n",
    "\n",
    "# Only returns number between 10 and 1000\n",
    "r = list(filter(lambda x: between(x, min=10), range(50)))\n",
    "\n",
    "r"
   ]
  },
  {
   "cell_type": "markdown",
   "id": "13ea26da-7097-404b-b8b3-8a4b73d395a7",
   "metadata": {},
   "source": [
    "## Using lambda() Function with filter()"
   ]
  },
  {
   "cell_type": "code",
   "execution_count": 14,
   "id": "68a1ab0f-3192-405d-8faa-73e68d83f6d1",
   "metadata": {},
   "outputs": [
    {
     "name": "stdout",
     "output_type": "stream",
     "text": [
      "[5, 7, 97, 77, 23, 73, 61]\n"
     ]
    }
   ],
   "source": [
    "li = [5, 7, 22, 97, 54, 62, 77, 23, 73, 61]\n",
    "\n",
    "# Print the only odd number\n",
    "final_list = list(filter(lambda x: (x % 2 != 0), li))\n",
    "\n",
    "print(final_list)"
   ]
  },
  {
   "cell_type": "code",
   "execution_count": 15,
   "id": "72013526-ec33-432b-8f83-25d362723a10",
   "metadata": {},
   "outputs": [
    {
     "name": "stdout",
     "output_type": "stream",
     "text": [
      "[90, 59, 21, 60]\n"
     ]
    }
   ],
   "source": [
    "# Filter all people having age more than 18, using lambda and filter() function\n",
    "\n",
    "# Python 3 code to people above 18 yrs\n",
    "ages = [13, 90, 17, 59, 21, 60, 5]\n",
    "\n",
    "adults = list(filter(lambda age: age > 18, ages))\n",
    "\n",
    "print(adults)\n"
   ]
  },
  {
   "cell_type": "markdown",
   "id": "1540ef73-927a-4d43-8ecb-2b996f26de30",
   "metadata": {},
   "source": [
    "## Using lambda() Function with map()"
   ]
  },
  {
   "cell_type": "code",
   "execution_count": 16,
   "id": "166ccc76-41d7-41fc-936c-92a363a2e1ee",
   "metadata": {},
   "outputs": [
    {
     "name": "stdout",
     "output_type": "stream",
     "text": [
      "[10, 14, 44, 194, 108, 124, 154, 46, 146, 122]\n"
     ]
    }
   ],
   "source": [
    "# Multiply all elements of a list by 2 using lambda and map() function\n",
    "\n",
    "li = [5, 7, 22, 97, 54, 62, 77, 23, 73, 61]\n",
    "\n",
    "final_list = list(map(lambda x: x*2, li))\n",
    "print(final_list)"
   ]
  },
  {
   "cell_type": "code",
   "execution_count": 17,
   "id": "6aeb31e4-e989-48e5-b665-2c42a8397ca5",
   "metadata": {},
   "outputs": [
    {
     "name": "stdout",
     "output_type": "stream",
     "text": [
      "['DOG', 'CAT', 'PARROT', 'RABBIT']\n"
     ]
    }
   ],
   "source": [
    "# Transform all elements of a list to upper case using lambda and map() function\n",
    "\n",
    "\n",
    "animals = ['dog', 'cat', 'parrot', 'rabbit']\n",
    "\n",
    "# here we intend to change all animal names\n",
    "# to upper case and return the same\n",
    "uppered_animals = list(map(lambda animal: animal.upper(), animals))\n",
    "\n",
    "print(uppered_animals)\n"
   ]
  },
  {
   "cell_type": "markdown",
   "id": "5da07208-5eaf-4c2b-8ac4-bdb835ac194f",
   "metadata": {},
   "source": [
    "## Using lambda() Function with reduce()"
   ]
  },
  {
   "cell_type": "code",
   "execution_count": 18,
   "id": "12a59476-e45f-4c09-a36e-bb6b20b3cf19",
   "metadata": {},
   "outputs": [
    {
     "name": "stdout",
     "output_type": "stream",
     "text": [
      "193\n"
     ]
    }
   ],
   "source": [
    "# Sum of all elements in a list using lambda and reduce() function\n",
    "\n",
    "\n",
    "from functools import reduce\n",
    "\n",
    "li = [5, 8, 10, 20, 50, 100]\n",
    "\n",
    "total = reduce((lambda x, y: x + y), li)\n",
    "\n",
    "print(total)\n"
   ]
  },
  {
   "cell_type": "code",
   "execution_count": 19,
   "id": "8c4574e5-d585-450c-9d1e-e1fabf748ab3",
   "metadata": {},
   "outputs": [
    {
     "name": "stdout",
     "output_type": "stream",
     "text": [
      "The maximum element of the list is : 6\n"
     ]
    }
   ],
   "source": [
    "# Find the maximum element in a list using lambda and reduce() function\n",
    "\n",
    "\n",
    "import functools\n",
    "\n",
    "# initializing list\n",
    "lis = [1, 3, 5, 6, 2, ]\n",
    "\n",
    "# using reduce to compute maximum element from list\n",
    "print(\"The maximum element of the list is : \", end=\"\")\n",
    "\n",
    "print(functools.reduce(lambda a, b: a if a > b else b, lis))\n"
   ]
  },
  {
   "cell_type": "code",
   "execution_count": null,
   "id": "9878e8e0-25b5-42af-acf7-946677c74254",
   "metadata": {},
   "outputs": [],
   "source": []
  }
 ],
 "metadata": {
  "kernelspec": {
   "display_name": "Python 3 (ipykernel)",
   "language": "python",
   "name": "python3"
  },
  "language_info": {
   "codemirror_mode": {
    "name": "ipython",
    "version": 3
   },
   "file_extension": ".py",
   "mimetype": "text/x-python",
   "name": "python",
   "nbconvert_exporter": "python",
   "pygments_lexer": "ipython3",
   "version": "3.10.7"
  }
 },
 "nbformat": 4,
 "nbformat_minor": 5
}
