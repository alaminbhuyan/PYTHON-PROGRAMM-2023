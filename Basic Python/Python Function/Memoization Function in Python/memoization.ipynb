{
 "cells": [
  {
   "cell_type": "markdown",
   "metadata": {},
   "source": [
    "### Created date: 29/09/2023\n",
    "\n",
    "#### Python version: 3.11.5\n",
    "\n",
    "### What is memoization in python function?\n",
    "\n",
    "**In programming, memoization is an optimization technique that makes applications more efficient and hence faster. It does this by storing computation results in cache, and retrieving that same information from the cache the next time it's needed instead of computing it again.**\n",
    "\n",
    "\n",
    "Memoization in programming is a technique used to optimize the performance of functions by caching or storing the results of expensive function calls and returning the cached result when the same inputs occur again. It's commonly used in dynamic programming and recursive algorithms to avoid redundant calculations and improve efficiency.\n",
    "\n",
    "Here are some key points about memoization in programming languages:\n",
    "\n",
    "1. **Purpose**: Memoization is primarily used to reduce the time complexity of algorithms by storing previously computed results and looking them up when needed, instead of recalculating them.\n",
    "\n",
    "2. **Implementation**: Memoization is typically implemented using data structures like dictionaries or hash maps. The input parameters of the function act as keys, and the corresponding results are stored as values.\n",
    "\n",
    "3. **Recursive Functions**: It is often used with recursive functions. When a function is called with a set of parameters, the function first checks if it has already computed the result for those parameters. If it has, it returns the cached result; otherwise, it calculates the result, stores it, and returns it.\n",
    "\n",
    "4. **Benefits**: Memoization can significantly speed up the execution of functions that involve repetitive or overlapping calculations, such as Fibonacci sequence generation, factorial computation, and many dynamic programming problems like the calculation of the nth term in a sequence.\n",
    "\n",
    "5. **Examples**: Here's a simple example of memoization in Python for calculating Fibonacci numbers:\n",
    "\n",
    "```python\n",
    "def fibonacci(n, memo={}):\n",
    "    if n in memo:\n",
    "        return memo[n]\n",
    "    if n <= 2:\n",
    "        return 1\n",
    "    memo[n] = fibonacci(n - 1, memo) + fibonacci(n - 2, memo)\n",
    "    return memo[n]\n",
    "```\n",
    "\n",
    "In this example, the `memo` dictionary is used to store previously computed Fibonacci numbers, which prevents redundant calculations.\n",
    "\n",
    "6. **Trade-offs**: While memoization can improve performance, it may also consume additional memory to store cached results. Developers need to strike a balance between time and space efficiency depending on the specific problem and system constraints.\n",
    "\n",
    "Memoization is a valuable technique for optimizing algorithms and reducing execution time in a variety of programming languages. It's commonly used in languages like Python, JavaScript, and Java to enhance the efficiency of recursive or repetitive computations."
   ]
  },
  {
   "cell_type": "code",
   "execution_count": 6,
   "metadata": {},
   "outputs": [],
   "source": [
    "from functools import lru_cache\n",
    "import time"
   ]
  },
  {
   "cell_type": "code",
   "execution_count": 12,
   "metadata": {},
   "outputs": [
    {
     "name": "stdout",
     "output_type": "stream",
     "text": [
      "250\n",
      "Done for 50\n",
      "100\n",
      "Done for 20\n",
      "175\n",
      "Done for 35\n",
      "250\n",
      "Done for 50\n",
      "100\n",
      "Done for 20\n",
      "175\n",
      "Done for 35\n"
     ]
    }
   ],
   "source": [
    "# You've defined the expensive_function with lru_cache decorator\n",
    "\n",
    "@lru_cache(maxsize=None)\n",
    "def expensive_function(value):\n",
    "    time.sleep(3)  # Simulating an expensive operation\n",
    "    return 5 * value\n",
    "\n",
    "# Calling the function with different values\n",
    "print(expensive_function(value=50))\n",
    "print(\"Done for 50\")\n",
    "\n",
    "print(expensive_function(value=20))\n",
    "print(\"Done for 20\")\n",
    "\n",
    "print(expensive_function(value=35))\n",
    "print(\"Done for 35\")\n",
    "\n",
    "# If you calculate the same thing again, it will use the cached result\n",
    "print(expensive_function(value=50))\n",
    "print(\"Done for 50\")\n",
    "\n",
    "print(expensive_function(value=20))\n",
    "print(\"Done for 20\")\n",
    "\n",
    "print(expensive_function(value=35))\n",
    "print(\"Done for 35\")\n"
   ]
  }
 ],
 "metadata": {
  "kernelspec": {
   "display_name": "Python 3",
   "language": "python",
   "name": "python3"
  },
  "language_info": {
   "codemirror_mode": {
    "name": "ipython",
    "version": 3
   },
   "file_extension": ".py",
   "mimetype": "text/x-python",
   "name": "python",
   "nbconvert_exporter": "python",
   "pygments_lexer": "ipython3",
   "version": "3.11.5"
  },
  "orig_nbformat": 4
 },
 "nbformat": 4,
 "nbformat_minor": 2
}
