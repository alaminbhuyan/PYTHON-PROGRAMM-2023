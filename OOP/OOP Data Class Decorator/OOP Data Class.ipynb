{
 "cells": [
  {
   "cell_type": "markdown",
   "id": "d4e79b40",
   "metadata": {},
   "source": [
    "## Python Data Classes\n",
    "\n",
    "In Python, the dataclass decorator is a feature introduced in Python 3.7 that provides a concise way to define classes primarily intended to store data. It automatically generates several special methods, such as init, repr, and eq, based on the class attributes you define. This simplifies the process of creating and working with data-focused classes."
   ]
  },
  {
   "cell_type": "code",
   "execution_count": 1,
   "id": "111f0965",
   "metadata": {},
   "outputs": [],
   "source": [
    "from dataclasses import dataclass"
   ]
  },
  {
   "cell_type": "code",
   "execution_count": 2,
   "id": "81c264ba",
   "metadata": {},
   "outputs": [
    {
     "name": "stdout",
     "output_type": "stream",
     "text": [
      "Name: Alamin, Age: 23, Address: Faidabadh-Chowrasta, Uttara, Dhaka-1230\n",
      "Name: Sharin akter, Age: 22, Address: Faidabadh-Chowrasta, Uttara, Dhaka-1230\n"
     ]
    }
   ],
   "source": [
    "# In normal way we can create class like this\n",
    "\n",
    "class Person:\n",
    "    def __init__(self, name:str, age:int, address:str):\n",
    "        self.name = name\n",
    "        self.age = age\n",
    "        self.address = address\n",
    "    \n",
    "    def __repr__(self):\n",
    "        return f\"Name: {self.name}, Age: {self.age}, Address: {self.address}\"\n",
    "\n",
    "    \n",
    "\n",
    "# Create a object for our class\n",
    "person1 = Person(\"Alamin\", 23, \"Faidabadh-Chowrasta, Uttara, Dhaka-1230\")\n",
    "person2 = Person(\"Sharin akter\", 22, \"Faidabadh-Chowrasta, Uttara, Dhaka-1230\")\n",
    "\n",
    "print(person1)\n",
    "\n",
    "# or\n",
    "\n",
    "print(repr(person2))"
   ]
  },
  {
   "cell_type": "markdown",
   "id": "b64b75da",
   "metadata": {},
   "source": [
    "\n",
    "\n",
    "\n",
    "The @dataclass decorator automatically generates the following methods for you:\n",
    "\n",
    "-- init(): Initializes the object and assigns the provided values to the attributes.\n",
    "\n",
    "-- repr(): Provides a string representation of the object.\n",
    "\n",
    "-- eq(): Implements equality comparison between two objects of the class based on their attributes."
   ]
  },
  {
   "cell_type": "code",
   "execution_count": 3,
   "id": "e748c56b",
   "metadata": {},
   "outputs": [
    {
     "name": "stdout",
     "output_type": "stream",
     "text": [
      "Person(name='Tania Akter', age=23, address='Faidabadh-Chowrasta, Uttara, Dhaka-1230')\n"
     ]
    }
   ],
   "source": [
    "# Now try to implement this above code using data-class\n",
    "\n",
    "@dataclass\n",
    "class Person:\n",
    "    name : str\n",
    "    age : int\n",
    "    address : str\n",
    "\n",
    "        \n",
    "        \n",
    "# Create a object for our class\n",
    "person1 = Person(\"Tania Akter\", 23, \"Faidabadh-Chowrasta, Uttara, Dhaka-1230\")\n",
    "\n",
    "print(person1)"
   ]
  },
  {
   "cell_type": "code",
   "execution_count": 4,
   "id": "28318d69",
   "metadata": {},
   "outputs": [
    {
     "name": "stdout",
     "output_type": "stream",
     "text": [
      "Person(name='Tania Akter', age=23, address='Uttara, Sector-5, Dhaka-1230')\n"
     ]
    }
   ],
   "source": [
    "# We can also give default value\n",
    "\n",
    "@dataclass\n",
    "class Person:\n",
    "    name : str\n",
    "    age : int\n",
    "    address : str = \"Uttara, Sector-5, Dhaka-1230\"\n",
    "\n",
    "        \n",
    "        \n",
    "# Create a object for our class\n",
    "person1 = Person(\"Tania Akter\", 23)\n",
    "\n",
    "print(person1)"
   ]
  },
  {
   "cell_type": "code",
   "execution_count": 5,
   "id": "634d7afd",
   "metadata": {},
   "outputs": [
    {
     "name": "stdout",
     "output_type": "stream",
     "text": [
      "Person(name='Fatema akter', age=23, address='Uttara, Sector-5, Dhaka-1230')\n"
     ]
    }
   ],
   "source": [
    "# We can change instance attribuate value\n",
    "\n",
    "person1.name = \"Fatema akter\"\n",
    "\n",
    "print(person1)"
   ]
  },
  {
   "cell_type": "markdown",
   "id": "1cadf298",
   "metadata": {},
   "source": [
    "@dataclasses.dataclass(*, init=True, repr=True, eq=True, \n",
    "                       order=False, unsafe_hash=False, \n",
    "                       frozen=False, match_args=True,\n",
    "                       kw_only=False, slots=False, weakref_slot=False)"
   ]
  },
  {
   "cell_type": "code",
   "execution_count": 6,
   "id": "9ab7cccb",
   "metadata": {},
   "outputs": [
    {
     "ename": "FrozenInstanceError",
     "evalue": "cannot assign to field 'name'",
     "output_type": "error",
     "traceback": [
      "\u001b[1;31m---------------------------------------------------------------------------\u001b[0m",
      "\u001b[1;31mFrozenInstanceError\u001b[0m                       Traceback (most recent call last)",
      "Cell \u001b[1;32mIn[6], line 14\u001b[0m\n\u001b[0;32m     11\u001b[0m \u001b[38;5;66;03m# Create a object for our class\u001b[39;00m\n\u001b[0;32m     12\u001b[0m person1 \u001b[38;5;241m=\u001b[39m Person(\u001b[38;5;124m\"\u001b[39m\u001b[38;5;124mTania Akter\u001b[39m\u001b[38;5;124m\"\u001b[39m, \u001b[38;5;241m23\u001b[39m)\n\u001b[1;32m---> 14\u001b[0m \u001b[43mperson1\u001b[49m\u001b[38;5;241;43m.\u001b[39;49m\u001b[43mname\u001b[49m \u001b[38;5;241m=\u001b[39m \u001b[38;5;124m\"\u001b[39m\u001b[38;5;124mFatema akter\u001b[39m\u001b[38;5;124m\"\u001b[39m\n\u001b[0;32m     16\u001b[0m \u001b[38;5;28mprint\u001b[39m(person1)\n",
      "File \u001b[1;32m<string>:4\u001b[0m, in \u001b[0;36m__setattr__\u001b[1;34m(self, name, value)\u001b[0m\n",
      "\u001b[1;31mFrozenInstanceError\u001b[0m: cannot assign to field 'name'"
     ]
    }
   ],
   "source": [
    "# Now we can't change the value\n",
    "\n",
    "@dataclass(frozen=True)\n",
    "class Person:\n",
    "    name : str\n",
    "    age : int\n",
    "    address : str = \"Uttara, Sector-5, Dhaka-1230\"\n",
    "\n",
    "        \n",
    "        \n",
    "# Create a object for our class\n",
    "person1 = Person(\"Tania Akter\", 23)\n",
    "\n",
    "person1.name = \"Fatema akter\"\n",
    "\n",
    "print(person1)"
   ]
  },
  {
   "cell_type": "code",
   "execution_count": 7,
   "id": "a493902f",
   "metadata": {},
   "outputs": [
    {
     "name": "stdout",
     "output_type": "stream",
     "text": [
      "Employee(name='KRish', age=31, employee_id='123', department='AI')\n"
     ]
    }
   ],
   "source": [
    "# inheritance \n",
    "\n",
    "@dataclass\n",
    "class Person:\n",
    "    name:str\n",
    "    age:int\n",
    "\n",
    "@dataclass\n",
    "class Employee(Person):\n",
    "    employee_id:str\n",
    "    department:str\n",
    "\n",
    "        \n",
    "# person = Person('Krish',31)\n",
    "\n",
    "employee = Employee(\"KRish\",31,'123','AI')\n",
    "\n",
    "print(employee)"
   ]
  },
  {
   "cell_type": "code",
   "execution_count": 8,
   "id": "ed8b4c8c",
   "metadata": {},
   "outputs": [],
   "source": [
    "# Nested Dataclasses\n",
    "\n",
    "@dataclass\n",
    "class Address:\n",
    "    street:str\n",
    "    city:str\n",
    "    zip_code:str\n",
    "\n",
    "@dataclass\n",
    "class Person:\n",
    "    name:str\n",
    "    age:str\n",
    "    address:Address\n",
    "        \n",
    "        \n",
    "address = Address('123 MAin street','Dhaka','1234')\n",
    "\n",
    "person=Person(\"Alamin\", 23, address)"
   ]
  },
  {
   "cell_type": "code",
   "execution_count": 9,
   "id": "90a2e580",
   "metadata": {},
   "outputs": [
    {
     "name": "stdout",
     "output_type": "stream",
     "text": [
      "Person(name='Alamin', age=23, address=Address(street='123 MAin street', city='Dhaka', zip_code='1234'))\n"
     ]
    }
   ],
   "source": [
    "print(person)"
   ]
  },
  {
   "cell_type": "code",
   "execution_count": 10,
   "id": "dcbfa39a",
   "metadata": {},
   "outputs": [
    {
     "data": {
      "text/plain": [
       "'123 MAin street'"
      ]
     },
     "execution_count": 10,
     "metadata": {},
     "output_type": "execute_result"
    }
   ],
   "source": [
    "person.address.street"
   ]
  },
  {
   "cell_type": "code",
   "execution_count": null,
   "id": "81d56f91",
   "metadata": {},
   "outputs": [],
   "source": []
  }
 ],
 "metadata": {
  "kernelspec": {
   "display_name": "Python 3 (ipykernel)",
   "language": "python",
   "name": "python3"
  },
  "language_info": {
   "codemirror_mode": {
    "name": "ipython",
    "version": 3
   },
   "file_extension": ".py",
   "mimetype": "text/x-python",
   "name": "python",
   "nbconvert_exporter": "python",
   "pygments_lexer": "ipython3",
   "version": "3.11.4"
  }
 },
 "nbformat": 4,
 "nbformat_minor": 5
}
