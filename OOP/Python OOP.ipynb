{
 "cells": [
  {
   "cell_type": "markdown",
   "id": "17d7b0a9",
   "metadata": {},
   "source": [
    "### Basic concept"
   ]
  },
  {
   "cell_type": "code",
   "execution_count": 1,
   "id": "0762c9a7",
   "metadata": {},
   "outputs": [
    {
     "name": "stdout",
     "output_type": "stream",
     "text": [
      "For item1:  500\n",
      "For item2:  3000\n"
     ]
    }
   ],
   "source": [
    "# How to create a class:\n",
    "class Item:\n",
    "    def calculate_total_price(self, x, y):\n",
    "        return x * y\n",
    "\n",
    "# How to create an instance or object of a class\n",
    "item1 = Item()\n",
    "\n",
    "# Assign attributes:\n",
    "item1.name = \"Phone\"\n",
    "item1.price = 100\n",
    "item1.quantity = 5\n",
    "\n",
    "# Calling methods from instances of a class:\n",
    "print(\"For item1: \",item1.calculate_total_price(item1.price, item1.quantity))\n",
    "\n",
    "# How to create an instance or object of a class (We could create as much as instances we'd like to)\n",
    "item2 = Item()\n",
    "\n",
    "# Assign attributes\n",
    "item2.name = \"Laptop\"\n",
    "item2.price = 1000\n",
    "item2.quantity = 3\n",
    "\n",
    "# Calling methods from instances of a class: \n",
    "print(\"For item2: \",item2.calculate_total_price(item2.price, item2.quantity))"
   ]
  },
  {
   "cell_type": "markdown",
   "id": "c52437a4",
   "metadata": {},
   "source": [
    "### Constructor"
   ]
  },
  {
   "cell_type": "code",
   "execution_count": 2,
   "id": "2da978a0",
   "metadata": {},
   "outputs": [
    {
     "name": "stdout",
     "output_type": "stream",
     "text": [
      "For item1:  100\n",
      "For item2:  3000\n"
     ]
    }
   ],
   "source": [
    "class Item:\n",
    "    def __init__(self, name: str, price: float, quantity=0):\n",
    "        # Run validations to the received arguments\n",
    "        assert price >= 0, f\"Price {price} is not greater than or equal to zero!\"\n",
    "        assert quantity >= 0, f\"Quantity {quantity} is not greater or equal to zero!\"\n",
    "\n",
    "        # Assign to self object\n",
    "        self.name = name\n",
    "        self.price = price\n",
    "        self.quantity = quantity\n",
    "\n",
    "    def calculate_total_price(self):\n",
    "        return self.price * self.quantity\n",
    "\n",
    "item1 = Item(\"Phone\", 100, 1)\n",
    "item2 = Item(\"Laptop\", 1000, 3)\n",
    "\n",
    "print(\"For item1: \",item1.calculate_total_price())\n",
    "print(\"For item2: \",item2.calculate_total_price())"
   ]
  },
  {
   "cell_type": "code",
   "execution_count": 3,
   "id": "368eae9c",
   "metadata": {},
   "outputs": [],
   "source": [
    "class Student:\n",
    "    collage_name = \"Jonab Ali School and Collage\" # Class variable\n",
    "    def __init__(self, name, age):\n",
    "        self.name = name # Instance variable\n",
    "        self.age = age # Instance variable\n"
   ]
  },
  {
   "cell_type": "code",
   "execution_count": 4,
   "id": "d6d2ba5c",
   "metadata": {},
   "outputs": [
    {
     "name": "stdout",
     "output_type": "stream",
     "text": [
      "{'__module__': '__main__', 'collage_name': 'Jonab Ali School and Collage', '__init__': <function Student.__init__ at 0x000001AB3BA54310>, '__dict__': <attribute '__dict__' of 'Student' objects>, '__weakref__': <attribute '__weakref__' of 'Student' objects>, '__doc__': None}\n"
     ]
    }
   ],
   "source": [
    "obj = Student('alamin', 22)\n",
    "\n",
    "print(Student.__dict__) # Class lebel all attributes"
   ]
  },
  {
   "cell_type": "code",
   "execution_count": 5,
   "id": "699cb73a",
   "metadata": {},
   "outputs": [
    {
     "name": "stdout",
     "output_type": "stream",
     "text": [
      "{'name': 'alamin', 'age': 22}\n"
     ]
    }
   ],
   "source": [
    "print(obj.__dict__) # Instance lebel all attributes"
   ]
  },
  {
   "cell_type": "code",
   "execution_count": null,
   "id": "15612457-c9ff-47fd-9383-18a24aca3496",
   "metadata": {},
   "outputs": [],
   "source": [
    "class Triangle:\n",
    "    \n",
    "    def __init__(this):\n",
    "        this.base = float(input(\"Enter the base: \"))\n",
    "        this.height = float(input(\"Enter the height: \"))\n",
    "    \n",
    "    def area_calculate(self):\n",
    "        area = 0.5* self.base*self.height\n",
    "        print(\"The area of Triangle is: \",area)\n",
    "\n",
    "\n",
    "\n",
    "tri = Triangle()\n",
    "tri.area_calculate()"
   ]
  },
  {
   "cell_type": "markdown",
   "id": "7fe41037-f4dd-4681-a82d-9089a455b53c",
   "metadata": {},
   "source": [
    "## Distructor"
   ]
  },
  {
   "cell_type": "code",
   "execution_count": 6,
   "id": "4e2dbdae-9e67-45d6-9e13-6fc75ec43485",
   "metadata": {},
   "outputs": [
    {
     "name": "stdout",
     "output_type": "stream",
     "text": [
      "Constructor is called\n",
      "Distructor is called\n"
     ]
    }
   ],
   "source": [
    "class A:\n",
    "    def __init__(self):\n",
    "        print(\"Constructor is called\")\n",
    "        \n",
    "    def __del__(self):\n",
    "        print('Distructor is called')\n",
    "        \n",
    "obj = A()\n",
    "\n",
    "del obj"
   ]
  },
  {
   "cell_type": "markdown",
   "id": "179a12aa-6ef2-48bf-a4b1-bbabbaa5d1c1",
   "metadata": {},
   "source": [
    "## class and instance variable"
   ]
  },
  {
   "cell_type": "code",
   "execution_count": 7,
   "id": "413a2312-7067-4b83-809a-e4ebe64ebbd1",
   "metadata": {},
   "outputs": [
    {
     "name": "stdout",
     "output_type": "stream",
     "text": [
      "alamin 2\n",
      "fatema 2\n",
      "alamin 55\n",
      "fatema 55\n",
      "alamin 100\n",
      "fatema 55\n",
      "alamin 100\n",
      "fatema 200\n"
     ]
    }
   ],
   "source": [
    "class Alien:\n",
    "    # This is class variable\n",
    "    legs = 2\n",
    "\n",
    "    def __init__(self, name):\n",
    "        # this is instance variable\n",
    "        self.name = name\n",
    "\n",
    "\n",
    "alien1 = Alien('alamin')\n",
    "alien2 = Alien('fatema')\n",
    "\n",
    "print(alien1.name,alien1.legs)\n",
    "print(alien2.name,alien2.legs)\n",
    "\n",
    "Alien.legs = 55 # access class variable useing class name\n",
    "\n",
    "print(alien1.name, alien1.legs)\n",
    "print(alien2.name, alien2.legs)\n",
    "\n",
    "alien1.legs = 100\n",
    "\n",
    "print(alien1.name, alien1.legs)\n",
    "print(alien2.name, alien2.legs)\n",
    "\n",
    "alien1.__class__.legs = 200  # access class variable useing __class__ by instance variable\n",
    "\n",
    "print(alien1.name, alien1.legs)\n",
    "print(alien2.name, alien2.legs)"
   ]
  },
  {
   "cell_type": "markdown",
   "id": "4c49a10a-f5d5-48ca-bb4a-fff41a4cbc07",
   "metadata": {},
   "source": [
    "## Types hints"
   ]
  },
  {
   "cell_type": "code",
   "execution_count": 8,
   "id": "c5e2e63b-4f4d-4bbd-abc1-234ddaff22b9",
   "metadata": {},
   "outputs": [
    {
     "name": "stdout",
     "output_type": "stream",
     "text": [
      "Sum-sung M10 12300\n"
     ]
    }
   ],
   "source": [
    "class Mobile:\n",
    "    def __init__(self, name: str, model_name: str, price: float | int):\n",
    "        self.name = name\n",
    "        self.model_name = model_name\n",
    "        self.price = price\n",
    "\n",
    "    def display(self):\n",
    "        print(f\"{self.name} {self.model_name} {self.price}\")\n",
    "\n",
    "\n",
    "obj = Mobile(\"Sum-sung\", \"M10\", 12300)\n",
    "obj.display()"
   ]
  },
  {
   "cell_type": "code",
   "execution_count": 9,
   "id": "25002348-73e0-4f65-87ab-8a4ddd39fb75",
   "metadata": {},
   "outputs": [
    {
     "name": "stdout",
     "output_type": "stream",
     "text": [
      "Sum-sung M10 12300\n"
     ]
    }
   ],
   "source": [
    "class Mobile:\n",
    "    def __init__(self, name: str, model_name: str, price: float | int) -> None:\n",
    "        self.name = name\n",
    "        self.model_name = model_name\n",
    "        self.price = price\n",
    "\n",
    "    def display(self):\n",
    "        print(f\"{self.name} {self.model_name} {self.price}\")\n",
    "\n",
    "\n",
    "obj = Mobile(\"Sum-sung\", \"M10\", 12300)\n",
    "obj.display()"
   ]
  },
  {
   "cell_type": "markdown",
   "id": "b3299b3c-fba9-479e-be4e-42aaa17c6590",
   "metadata": {},
   "source": [
    "## Dundder method"
   ]
  },
  {
   "cell_type": "code",
   "execution_count": 10,
   "id": "ac56af3c-77d7-4e5b-8bbf-2cfbfb8e1e6f",
   "metadata": {},
   "outputs": [
    {
     "name": "stdout",
     "output_type": "stream",
     "text": [
      "name: alamin and age: 21\n",
      "name: alamin and age: 55\n",
      "True\n",
      "Hi, alamin and your age: 55\n"
     ]
    }
   ],
   "source": [
    "#  __str__()\n",
    "\n",
    "class Computer:\n",
    "    def __init__(self,name,age):\n",
    "        self.name = name\n",
    "        self.age = age\n",
    "\n",
    "    def display(self):\n",
    "        print(f'name: {self.name} and age: {self.age}')\n",
    "\n",
    "    # __str__() this method automatic return the string representation of the object\n",
    "    \n",
    "    def __str__(self):\n",
    "        return f\"Hi, {self.name} and your age: {self.age}\"\n",
    "\n",
    "com = Computer('alamin',21)\n",
    "com.display()\n",
    "com.age = 55\n",
    "com.display()\n",
    "print(isinstance(com,Computer))\n",
    "\n",
    "print(com) # if we print the object or instance then it will print the __str__() method return value"
   ]
  },
  {
   "cell_type": "code",
   "execution_count": 11,
   "id": "e92b70af-856d-41bc-b798-ae8884da7f18",
   "metadata": {},
   "outputs": [
    {
     "name": "stdout",
     "output_type": "stream",
     "text": [
      "name: alamin and age: 21\n",
      "name: alamin and age: 55\n",
      "True\n",
      "Hi, alamin and your age: 55\n"
     ]
    }
   ],
   "source": [
    "#  __repr__()\n",
    "\n",
    "class Computer:\n",
    "    def __init__(self,name,age):\n",
    "        self.name = name\n",
    "        self.age = age\n",
    "\n",
    "    def display(self):\n",
    "        print(f'name: {self.name} and age: {self.age}')\n",
    "\n",
    "    # __repr__() this method automatic return the string representation of the object\n",
    "    \n",
    "    def __repr__(self):\n",
    "        return f\"Hi, {self.name} and your age: {self.age}\"\n",
    "\n",
    "com = Computer('alamin',21)\n",
    "com.display()\n",
    "com.age = 55\n",
    "com.display()\n",
    "print(isinstance(com,Computer))\n",
    "\n",
    "print(com) # if we print the object or instance then it will print the __repr__() method return value"
   ]
  },
  {
   "cell_type": "markdown",
   "id": "6aab2d1a-379c-48e3-8c35-498e51fe7888",
   "metadata": {},
   "source": [
    "## Compare two object"
   ]
  },
  {
   "cell_type": "code",
   "execution_count": 12,
   "id": "52332924-4b02-4d15-81a1-86d461244b30",
   "metadata": {},
   "outputs": [
    {
     "name": "stdout",
     "output_type": "stream",
     "text": [
      "They are different\n"
     ]
    }
   ],
   "source": [
    "class computer:\n",
    "    def __init__(self):\n",
    "        self.name = 'Alamin'\n",
    "        self.age = 21\n",
    "\n",
    "    def compare(self,other):\n",
    "        if self.age == other.age:\n",
    "            return True\n",
    "        else:\n",
    "            return False\n",
    "\n",
    "com1 = computer()\n",
    "\n",
    "com2 =computer()\n",
    "\n",
    "com1.age = 32\n",
    "\n",
    "if com1.compare(com2):\n",
    "    print(\"They are same\")\n",
    "else:\n",
    "    print(\"They are different\")"
   ]
  },
  {
   "cell_type": "code",
   "execution_count": 13,
   "id": "40240a32-5a76-41be-b996-7a36c2ade909",
   "metadata": {},
   "outputs": [
    {
     "name": "stdout",
     "output_type": "stream",
     "text": [
      "(7, 11)\n"
     ]
    }
   ],
   "source": [
    "# Also called operator overloding\n",
    "\n",
    "class Complex:\n",
    "    def __init__(self,a,b):\n",
    "        self.a = a\n",
    "        self.b = b\n",
    "        \n",
    "    def __add__(self, other):\n",
    "        return self.a + other.a, self.b + other.b\n",
    "\n",
    "a = Complex(5,6)\n",
    "\n",
    "b = Complex(2,5)\n",
    "\n",
    "c = a + b\n",
    "\n",
    "print(c)"
   ]
  },
  {
   "cell_type": "code",
   "execution_count": 14,
   "id": "18908a21-7b77-49d1-b619-8bd83e17caef",
   "metadata": {},
   "outputs": [
    {
     "name": "stdout",
     "output_type": "stream",
     "text": [
      "34\n",
      "10\n",
      "obj wins\n"
     ]
    }
   ],
   "source": [
    "# Operator overloading\n",
    "\n",
    "class A:\n",
    "    def __init__(self,x,y):\n",
    "        self.x = x\n",
    "        self.y = y\n",
    "\n",
    "    def __add__(self, other):\n",
    "        x = self.x + other.x\n",
    "        y = self.y + other.y\n",
    "        x3 = A(x,y)\n",
    "        return x3\n",
    "\n",
    "    def __gt__(self, other):\n",
    "        x = self.x + self.y\n",
    "        y = other.x + other.y\n",
    "        \n",
    "        if x>y:\n",
    "            return True\n",
    "        else:\n",
    "            return False\n",
    "\n",
    "obj = A(20,5)\n",
    "\n",
    "obj2 = A(14,5)\n",
    "\n",
    "obj3 = obj+obj2\n",
    "\n",
    "print(obj3.x)\n",
    "\n",
    "print(obj3.y)\n",
    "\n",
    "if obj>obj2:\n",
    "    print(\"obj wins\")\n",
    "else:\n",
    "    print('obj2 wins')"
   ]
  },
  {
   "cell_type": "markdown",
   "id": "40154ae9-b70f-45ec-9b38-deed6c65e488",
   "metadata": {},
   "source": [
    "## Magic method"
   ]
  },
  {
   "cell_type": "code",
   "execution_count": 50,
   "id": "0d7d4077-8d0f-4009-98ac-084c351ea31c",
   "metadata": {},
   "outputs": [
    {
     "name": "stdout",
     "output_type": "stream",
     "text": [
      "Name: Yamaha R15, Color: Blue\n",
      "True\n"
     ]
    }
   ],
   "source": [
    "class Bike:\n",
    "    def __init__(self,name,color):\n",
    "        self.name = name\n",
    "        self.color = color\n",
    "    \n",
    "    def __str__(self):\n",
    "        return (f\"Name: {self.name}, Color: {self.color}\")\n",
    "    \n",
    "    \n",
    "    def __eq__(self, value):\n",
    "        return self.name == value.name and self.color == value.color\n",
    "    \n",
    "    \n",
    "    \n",
    "    # def display(self):\n",
    "    #     print(f\"Name: {self.name}, Color: {self.color}\")\n",
    "\n",
    "\n",
    "Bike1 = Bike(\"Yamaha R15\",\"Blue\")\n",
    "Bike2 = Bike(\"Yamaha R15\", \"Blue\")\n",
    "print(Bike1)\n",
    "print(Bike1==Bike2)"
   ]
  },
  {
   "cell_type": "markdown",
   "id": "31de4dd6-7ca9-427c-bf3c-d1a7c1d58017",
   "metadata": {},
   "source": [
    "## Some method\n",
    "\n",
    "getattr(instance_name, instance_variable_name)\n",
    "\n",
    "setattr(instance_name, instance_variable_name, value)\n",
    "\n",
    "hasattr(instance_name, instance_variable_name)\n",
    "\n",
    "delattr(instance_name, instance_variable_name)"
   ]
  },
  {
   "cell_type": "code",
   "execution_count": 15,
   "id": "56e1cf7b-1df5-43b2-8fd9-c052a495c258",
   "metadata": {},
   "outputs": [
    {
     "name": "stdout",
     "output_type": "stream",
     "text": [
      "when print object or instance:  Mobile Name: Sumsung Galaxy, Model: M10, Price: 12000\n",
      "Nokia\n",
      "12000\n",
      "True\n"
     ]
    }
   ],
   "source": [
    "class Mobile:\n",
    "    def __init__(self,name,model,price):\n",
    "        self.name = name\n",
    "        self.model = model\n",
    "        self.price = price\n",
    "\n",
    "    def __str__(self):\n",
    "        return f'Mobile Name: {self.name}, Model: {self.model}, Price: {self.price}'\n",
    "    \n",
    "\n",
    "mob = Mobile('Sumsung Galaxy','M10',12000)\n",
    "\n",
    "print(\"when print object or instance: \", mob)\n",
    "\n",
    "setattr(mob,\"name\",\"Nokia\") # using this method we set new value\n",
    "\n",
    "print(getattr(mob, 'name'))\n",
    "print(getattr(mob,'price'))\n",
    "\n",
    "print(hasattr(mob,'model')) # hasatter() check the 'model' is exist or not\n",
    "\n",
    "# delattr(mob,'model')\n",
    "\n",
    "# print(mob.model)"
   ]
  },
  {
   "cell_type": "code",
   "execution_count": 55,
   "id": "adfd0e6d-659e-494a-9f29-0660933e497d",
   "metadata": {},
   "outputs": [
    {
     "name": "stdout",
     "output_type": "stream",
     "text": [
      "This is class constructor\n",
      "{'name': 'John', 'id': 101, 'age': 22}\n",
      "__main__\n"
     ]
    }
   ],
   "source": [
    "# some built in class in python\n",
    "\n",
    "class Student2:\n",
    "    \"\"\"This is class constructor\"\"\"\n",
    "    def __init__(self, name, id, age):\n",
    "        self.name = name\n",
    "        self.id = id\n",
    "        self.age = age\n",
    "\n",
    "    def display_details(self):\n",
    "        print(\"Name:%s, ID:%d, age:%d\" % (self.name, self.id,self.age))\n",
    "\n",
    "\n",
    "s = Student2(\"John\", 101, 22)\n",
    "\n",
    "print(s.__doc__)\n",
    "print(s.__dict__)\n",
    "print(s.__module__)\n",
    "# print(s.__bases__)\n",
    "# print(s.__name__)"
   ]
  },
  {
   "cell_type": "markdown",
   "id": "db4baa4b-d7cf-4ce5-8b28-caa52469d881",
   "metadata": {},
   "source": [
    "## @property decorator"
   ]
  },
  {
   "cell_type": "code",
   "execution_count": 16,
   "id": "03149d5b-7ac0-422d-aa48-9f9e83ef487f",
   "metadata": {},
   "outputs": [
    {
     "name": "stdout",
     "output_type": "stream",
     "text": [
      "alamin\n",
      "bhuyan\n",
      "alamin.bhuyan@gmail.com\n",
      "tania.bhuyan@gmail.com\n",
      "alamin.bhuyan321@gmail.com\n"
     ]
    }
   ],
   "source": [
    "class Employe:\n",
    "    def __init__(self,fname, lname):\n",
    "        self.fname = fname\n",
    "        self.lname = lname\n",
    "\n",
    "    # use when we want to use a method as a property\n",
    "    @property\n",
    "    def email(self):\n",
    "        return self.fname +'.'+ self.lname + '@gmail.com'\n",
    "\n",
    "    @email.setter\n",
    "    def email(self, given_email):\n",
    "        lis = given_email.split('@')[0].split('.')\n",
    "        self.fname = lis[0]\n",
    "        self.lname = lis[1]\n",
    "\n",
    "if __name__ == '__main__':\n",
    "\n",
    "    obj1 = Employe('alamin','bhuyan')\n",
    "    \n",
    "    print(obj1.fname)\n",
    "    print(obj1.lname)\n",
    "    \n",
    "    print(obj1.email) # use a method as a property\n",
    "    \n",
    "    obj1.fname = \"tania\"\n",
    "    \n",
    "    print(obj1.email)\n",
    "    \n",
    "    obj1.email = 'alamin.bhuyan321@gmail.com'\n",
    "    \n",
    "    print(obj1.email)"
   ]
  },
  {
   "cell_type": "code",
   "execution_count": 56,
   "id": "6a8410d1-927c-4769-ad03-7dd171a08612",
   "metadata": {},
   "outputs": [
    {
     "name": "stdout",
     "output_type": "stream",
     "text": [
      "FirstName: alamin LastName: bhuyan\n",
      "alamin.bhuyan@gmail.com\n",
      "tania.akter@gmail.com\n",
      "Email is not set.please set email by setter\n"
     ]
    }
   ],
   "source": [
    "class Person:\n",
    "    def __init__(self,fname,lname):\n",
    "        self.fname = fname\n",
    "        self.lname = lname\n",
    "\n",
    "    def show_details(self):\n",
    "        return f\"FirstName: {self.fname} LastName: {self.lname}\"\n",
    "\n",
    "    @property\n",
    "    def email(self):\n",
    "        # if self.fname==None or self.lname==None:\n",
    "        #     return \"Email is not set.please set email by setter\"\n",
    "        if self.fname is None or self.lname is None:\n",
    "            return \"Email is not set.please set email by setter\"\n",
    "        return f\"{self.fname}.{self.lname}@gmail.com\"\n",
    "\n",
    "    @email.setter\n",
    "    def email(self,string):\n",
    "        self.fname,self.lname = string.split(\"@\")[0].split(\".\")\n",
    "\n",
    "    @email.deleter\n",
    "    def email(self):\n",
    "        self.fname = None\n",
    "        self.lname = None\n",
    "\n",
    "\n",
    "per = Person(\"alamin\",\"bhuyan\")\n",
    "print(per.show_details())\n",
    "print(per.email)\n",
    "per.email = \"tania.akter@gmail.com\"\n",
    "print(per.email)\n",
    "del per.email\n",
    "print(per.email)"
   ]
  },
  {
   "cell_type": "markdown",
   "id": "cf9a7f3b-3e3c-4d32-98c6-e1621a7f9bda",
   "metadata": {},
   "source": [
    "## Class method with alternative constructor"
   ]
  },
  {
   "cell_type": "code",
   "execution_count": 17,
   "id": "8900c13a-81a2-49a6-b144-90e05d52bc9b",
   "metadata": {},
   "outputs": [
    {
     "name": "stdout",
     "output_type": "stream",
     "text": [
      "Mobile-Name: Sumsung Galaxy, Brand: Sumsung, Model: M10, Price: 12500\n",
      "------------------------------------------------------------------------\n",
      "Mobile-Name: Nokia Nova, Brand: Nokia, Model: S10, Price: 14500\n"
     ]
    }
   ],
   "source": [
    "class Mobile:\n",
    "    def __init__(self, name:str ,brand:str, model:str, price:int|float):\n",
    "        self.name = name\n",
    "        self.brand = brand\n",
    "        self.model = model\n",
    "        self.price = price\n",
    "\n",
    "    def show(self):\n",
    "        return f\"Mobile-Name: {self.name}, Brand: {self.brand}, Model: {self.model}, Price: {self.price}\"\n",
    "\n",
    "    @classmethod\n",
    "    def cls_cons(cls, string:str):\n",
    "        name, brand, model, price = string.split(\",\")\n",
    "        \n",
    "        return cls(name, brand, model, price)\n",
    "\n",
    "\n",
    "mob1 = Mobile(\"Sumsung Galaxy\", \"Sumsung\", \"M10\", 12_500)\n",
    "print(mob1.show())\n",
    "\n",
    "print('------------------------------------------------------------------------')\n",
    "\n",
    "# if we want to pass all the arguments as a single string then class constructor is useful\n",
    "mob2 = Mobile.cls_cons(\"Nokia Nova,Nokia,S10,14500\")\n",
    "print(mob2.show())"
   ]
  },
  {
   "cell_type": "markdown",
   "id": "5bf68128-53b9-4647-b603-3351b894bde1",
   "metadata": {},
   "source": [
    "## getter() and setter() and private and protected"
   ]
  },
  {
   "cell_type": "code",
   "execution_count": 18,
   "id": "09fb9dd4-f4fb-4fa2-ab1c-f65347465efe",
   "metadata": {},
   "outputs": [
    {
     "name": "stdout",
     "output_type": "stream",
     "text": [
      "Name: alamin, Age: 21, Home-Twon: Comilla\n",
      "\n",
      "Name: alamin, Age: 21, Home-Twon: Khulna\n"
     ]
    }
   ],
   "source": [
    "class Person:\n",
    "    def __init__(self, name:str, age:int, homeTown:str):\n",
    "        self.name = name\n",
    "        self.age = age\n",
    "        self.__homeTown = homeTown # Private instance variable or attribute\n",
    "\n",
    "    def getter(self):\n",
    "        return self.__homeTown\n",
    "\n",
    "    def setter(self,value):\n",
    "        self.__homeTown = value\n",
    "\n",
    "    def show(self):\n",
    "        print(f\"Name: {self.name}, Age: {self.age}, Home-Twon: {self.__homeTown}\")\n",
    "\n",
    "    homeTown = property(getter, setter)\n",
    "\n",
    "\n",
    "per1 = Person(name=\"alamin\", age=21, homeTown=\"Comilla\")\n",
    "\n",
    "per1.show()\n",
    "\n",
    "# print(per1.__homeTown) # using this line we can't access the __homeTown variable because it is private\n",
    "\n",
    "print()\n",
    "\n",
    "# per1.homeTown = \"Dhaka\" # I think it will create new variable\n",
    "\n",
    "# print(per1.homeTown)\n",
    "\n",
    "# if we want to access then use gettter()\n",
    "per1.getter()\n",
    "\n",
    "# if we want to set new value then use setter()\n",
    "per1.setter(\"Khulna\")\n",
    "\n",
    "per1.show()"
   ]
  },
  {
   "cell_type": "code",
   "execution_count": 19,
   "id": "4a01272c-e5cf-4913-a518-91ecf3d56e72",
   "metadata": {},
   "outputs": [
    {
     "name": "stdout",
     "output_type": "stream",
     "text": [
      "Name: alamin DOB: 1999 Height: 6\n",
      "Date of birth is:  1999\n",
      "**********************************************************************\n",
      "Name: alamin bhuyan DOB: 1999 Height: 6\n",
      "Name: alamin bhuyan DOB: 1999 Height: Invalid\n",
      "Name: fatema bhuyan DOB: 1998 Height: 5\n",
      "Name: shamim bhuyan DOB: 1999 Height: Invalid\n"
     ]
    }
   ],
   "source": [
    "class Person:\n",
    "    def __init__(self, name:str, date_of_birth:int, height=None):\n",
    "        self.__name = name\n",
    "        self.__data_of_birth = date_of_birth\n",
    "        self.__height = height\n",
    "\n",
    "    def get_date_of_birth(self):\n",
    "        return self.__data_of_birth\n",
    "\n",
    "    def get_name(self):\n",
    "        return self.__name\n",
    "\n",
    "    def set_name(self, new_name:str):\n",
    "        if self.check_name(new_name):\n",
    "            print(\"Sorry your name is invalid!!!!\")\n",
    "        else:\n",
    "            self.__name = new_name\n",
    "            \n",
    "    def check_name(self, new_name:str):\n",
    "        if \"0\" in new_name:\n",
    "            return True\n",
    "        else:\n",
    "            return False\n",
    "        \n",
    "    def show_details(self):\n",
    "        print(f\"Name: {self.__name} DOB: {self.__data_of_birth} Height: {self.__height if self.__height is not None else 'Invalid'}\")\n",
    "\n",
    "\n",
    "person1 = Person(\"alamin\", 1999, 6)\n",
    "person1.show_details()\n",
    "print(\"Date of birth is: \",person1.get_date_of_birth())\n",
    "\n",
    "print(\"*\"*70)\n",
    "\n",
    "person_list = [ Person(\"alamin bhuyan\", 1999, 6),\n",
    "                Person(\"alamin bhuyan\", 1999),\n",
    "                Person(\"tania bhuyan\", 1995, 5),\n",
    "                Person(\"fatema bhuyan\", 1998, 5),\n",
    "                Person(\"shamim bhuyan\", 1999),\n",
    "                Person(\"mim bhuyan\", 1992, 7),\n",
    "                Person(\"fariya bhuyan\", 1994, 5)]\n",
    "\n",
    "for person in person_list:\n",
    "    if person.get_date_of_birth() > 1995:\n",
    "        person.show_details()"
   ]
  },
  {
   "cell_type": "markdown",
   "id": "5952f6cb-8777-43c9-85d0-5d134a0b0dd6",
   "metadata": {},
   "source": [
    "### Protected Members or attributes\n",
    "Protected members of a class are accessible from within the class and are also available to its sub-classes. No other environment is permitted access to it. This enables specific resources of the parent class to be inherited by the child class.\n",
    "\n",
    "Python's convention to make an instance variable protected is to add a prefix _ (single underscore) to it. This effectively prevents it from being accessed unless it is from within a sub-class."
   ]
  },
  {
   "cell_type": "code",
   "execution_count": 20,
   "id": "23c159e6-7689-4a7f-98d3-528b1048d3c7",
   "metadata": {},
   "outputs": [],
   "source": [
    "class Student:\n",
    "    _schoolName = \"Jonab Ali High School\" # protected class attribute\n",
    "    \n",
    "    def __init__(self, stu_name, age):\n",
    "        self._stuName = stu_name # protected instance attribute\n",
    "        self._age = age          # protected instance attribute"
   ]
  },
  {
   "cell_type": "markdown",
   "id": "14941681-6caf-475c-81c5-74d6486cfae1",
   "metadata": {},
   "source": [
    "#### In fact, this doesn't prevent instance variables from accessing or modifying the instance. You can still perform the following operations:"
   ]
  },
  {
   "cell_type": "code",
   "execution_count": 21,
   "id": "4e52942c-3458-49e0-8324-a019fbc25133",
   "metadata": {},
   "outputs": [
    {
     "name": "stdout",
     "output_type": "stream",
     "text": [
      "Alamin\n",
      "22\n"
     ]
    }
   ],
   "source": [
    "# Access Protected Members\n",
    "\n",
    "stu = Student(\"Alamin\", \"22\")\n",
    "print(stu._stuName)\n",
    "print(stu._age)"
   ]
  },
  {
   "cell_type": "code",
   "execution_count": 22,
   "id": "c23eb784-7fd3-4e37-b592-6ec95590ba0f",
   "metadata": {},
   "outputs": [
    {
     "data": {
      "text/plain": [
       "'Depika'"
      ]
     },
     "execution_count": 22,
     "metadata": {},
     "output_type": "execute_result"
    }
   ],
   "source": [
    "stu._stuName = \"Depika\"\n",
    "stu._stuName"
   ]
  },
  {
   "cell_type": "code",
   "execution_count": 23,
   "id": "733d0990-da22-4a48-a122-14b0773902e7",
   "metadata": {},
   "outputs": [],
   "source": [
    "# However, you can define a property using property decorator and make it protected, as shown below.\n",
    "\n",
    "class Student:\n",
    "    def __init__(self,name):\n",
    "        self._name = name\n",
    "        \n",
    "    @property\n",
    "    def name(self):\n",
    "        return self._name\n",
    "    \n",
    "    @name.setter\n",
    "    def name(self,newname):\n",
    "        self._name = newname"
   ]
  },
  {
   "cell_type": "code",
   "execution_count": 24,
   "id": "d151691f-a6cd-4605-a34e-b24bb8ebf7db",
   "metadata": {},
   "outputs": [
    {
     "data": {
      "text/plain": [
       "'Swaite'"
      ]
     },
     "execution_count": 24,
     "metadata": {},
     "output_type": "execute_result"
    }
   ],
   "source": [
    "stu1 = Student(\"Swaite\")\n",
    "stu1.name"
   ]
  },
  {
   "cell_type": "code",
   "execution_count": 25,
   "id": "356d2ded-a43e-4c6b-bbc4-ae7449270445",
   "metadata": {},
   "outputs": [
    {
     "data": {
      "text/plain": [
       "'Anuska'"
      ]
     },
     "execution_count": 25,
     "metadata": {},
     "output_type": "execute_result"
    }
   ],
   "source": [
    "# Still accessable\n",
    "\n",
    "stu1.name = \"Anuska\"\n",
    "stu1._name "
   ]
  },
  {
   "cell_type": "markdown",
   "id": "c7fdc547-ea5e-47d2-ab08-0db489a34355",
   "metadata": {},
   "source": [
    "### Private Members or attributes\n",
    "Python doesn't have any mechanism that effectively restricts access to any instance variable or method. Python prescribes a convention of prefixing the name of the variable/method with a single or double underscore to emulate the behavior of protected and private access specifiers.\n",
    "\n",
    "The double underscore __ prefixed to a variable makes it private. It gives a strong suggestion not to touch it from outside the class. Any attempt to do so will result in an AttributeError:"
   ]
  },
  {
   "cell_type": "code",
   "execution_count": 26,
   "id": "45261b38-c51e-45e8-9c21-6ffd753cd34f",
   "metadata": {},
   "outputs": [],
   "source": [
    "class Employee:\n",
    "    __companyName = \"EON Group of company\" # private class attribute\n",
    "    \n",
    "    def __init__(self, emp_name, age):\n",
    "        self.__empName = emp_name # Private instance attribute\n",
    "        self.__age = age          # Private instance attribute\n",
    "\n",
    "# Python performs name mangling of private variables."
   ]
  },
  {
   "cell_type": "code",
   "execution_count": 27,
   "id": "d1e867df-5be2-4cd1-ac22-d106a51fa594",
   "metadata": {},
   "outputs": [
    {
     "ename": "AttributeError",
     "evalue": "'Employee' object has no attribute '__companyName'",
     "output_type": "error",
     "traceback": [
      "\u001b[1;31m---------------------------------------------------------------------------\u001b[0m",
      "\u001b[1;31mAttributeError\u001b[0m                            Traceback (most recent call last)",
      "Input \u001b[1;32mIn [27]\u001b[0m, in \u001b[0;36m<cell line: 2>\u001b[1;34m()\u001b[0m\n\u001b[0;32m      1\u001b[0m emp \u001b[38;5;241m=\u001b[39m Employee(\u001b[38;5;124m\"\u001b[39m\u001b[38;5;124mAlica\u001b[39m\u001b[38;5;124m\"\u001b[39m, \u001b[38;5;241m23\u001b[39m)\n\u001b[1;32m----> 2\u001b[0m \u001b[43memp\u001b[49m\u001b[38;5;241;43m.\u001b[39;49m\u001b[43m__companyName\u001b[49m\n",
      "\u001b[1;31mAttributeError\u001b[0m: 'Employee' object has no attribute '__companyName'"
     ]
    }
   ],
   "source": [
    "emp = Employee(\"Alica\", 23)\n",
    "emp.__companyName"
   ]
  },
  {
   "cell_type": "code",
   "execution_count": 28,
   "id": "16489aea-bc7e-4a30-8b9f-854a692a0f0b",
   "metadata": {},
   "outputs": [
    {
     "ename": "AttributeError",
     "evalue": "'Employee' object has no attribute '__empName'",
     "output_type": "error",
     "traceback": [
      "\u001b[1;31m---------------------------------------------------------------------------\u001b[0m",
      "\u001b[1;31mAttributeError\u001b[0m                            Traceback (most recent call last)",
      "Input \u001b[1;32mIn [28]\u001b[0m, in \u001b[0;36m<cell line: 1>\u001b[1;34m()\u001b[0m\n\u001b[1;32m----> 1\u001b[0m \u001b[43memp\u001b[49m\u001b[38;5;241;43m.\u001b[39;49m\u001b[43m__empName\u001b[49m\n",
      "\u001b[1;31mAttributeError\u001b[0m: 'Employee' object has no attribute '__empName'"
     ]
    }
   ],
   "source": [
    "emp.__empName"
   ]
  },
  {
   "cell_type": "code",
   "execution_count": 29,
   "id": "8a23cbf3-64b6-4fe8-968f-485bc625defe",
   "metadata": {},
   "outputs": [
    {
     "ename": "AttributeError",
     "evalue": "type object 'Employee' has no attribute '__companyName'",
     "output_type": "error",
     "traceback": [
      "\u001b[1;31m---------------------------------------------------------------------------\u001b[0m",
      "\u001b[1;31mAttributeError\u001b[0m                            Traceback (most recent call last)",
      "Input \u001b[1;32mIn [29]\u001b[0m, in \u001b[0;36m<cell line: 1>\u001b[1;34m()\u001b[0m\n\u001b[1;32m----> 1\u001b[0m \u001b[43mEmployee\u001b[49m\u001b[38;5;241;43m.\u001b[39;49m\u001b[43m__companyName\u001b[49m\n",
      "\u001b[1;31mAttributeError\u001b[0m: type object 'Employee' has no attribute '__companyName'"
     ]
    }
   ],
   "source": [
    "Employee.__companyName"
   ]
  },
  {
   "cell_type": "markdown",
   "id": "fb484770-690a-4599-af4a-4e67636c9164",
   "metadata": {},
   "source": [
    "### Accessing Private attribute"
   ]
  },
  {
   "cell_type": "code",
   "execution_count": 30,
   "id": "dbae2db7-c105-4c91-9c6d-94b713a7d7d0",
   "metadata": {},
   "outputs": [
    {
     "name": "stdout",
     "output_type": "stream",
     "text": [
      "EON Group of company\n",
      "Alica\n",
      "23\n"
     ]
    }
   ],
   "source": [
    "print(emp._Employee__companyName)\n",
    "\n",
    "print(emp._Employee__empName)\n",
    "\n",
    "print(emp._Employee__age)"
   ]
  },
  {
   "cell_type": "markdown",
   "id": "f9589737-8da5-4964-9867-6ea4db7be5b5",
   "metadata": {},
   "source": [
    "### Private Method"
   ]
  },
  {
   "cell_type": "code",
   "execution_count": 31,
   "id": "214c2cc2-1129-48b3-a4e3-337a3ab02264",
   "metadata": {},
   "outputs": [
    {
     "ename": "AttributeError",
     "evalue": "'Mobile' object has no attribute '__display'",
     "output_type": "error",
     "traceback": [
      "\u001b[1;31m---------------------------------------------------------------------------\u001b[0m",
      "\u001b[1;31mAttributeError\u001b[0m                            Traceback (most recent call last)",
      "Input \u001b[1;32mIn [31]\u001b[0m, in \u001b[0;36m<cell line: 12>\u001b[1;34m()\u001b[0m\n\u001b[0;32m      8\u001b[0m         \u001b[38;5;28mprint\u001b[39m(\u001b[38;5;124mf\u001b[39m\u001b[38;5;124m\"\u001b[39m\u001b[38;5;124mName: \u001b[39m\u001b[38;5;132;01m{\u001b[39;00m\u001b[38;5;28mself\u001b[39m\u001b[38;5;241m.\u001b[39mname\u001b[38;5;132;01m}\u001b[39;00m\u001b[38;5;124m, Model: \u001b[39m\u001b[38;5;132;01m{\u001b[39;00m\u001b[38;5;28mself\u001b[39m\u001b[38;5;241m.\u001b[39mmodel\u001b[38;5;132;01m}\u001b[39;00m\u001b[38;5;124m, Price: \u001b[39m\u001b[38;5;132;01m{\u001b[39;00m\u001b[38;5;28mself\u001b[39m\u001b[38;5;241m.\u001b[39mprice\u001b[38;5;132;01m}\u001b[39;00m\u001b[38;5;124m\"\u001b[39m)\n\u001b[0;32m     10\u001b[0m mob \u001b[38;5;241m=\u001b[39m Mobile(\u001b[38;5;124m\"\u001b[39m\u001b[38;5;124mSumsung Glaxy\u001b[39m\u001b[38;5;124m\"\u001b[39m, \u001b[38;5;124m\"\u001b[39m\u001b[38;5;124mM10\u001b[39m\u001b[38;5;124m\"\u001b[39m, \u001b[38;5;241m12000\u001b[39m)\n\u001b[1;32m---> 12\u001b[0m \u001b[43mmob\u001b[49m\u001b[38;5;241;43m.\u001b[39;49m\u001b[43m__display\u001b[49m()\n",
      "\u001b[1;31mAttributeError\u001b[0m: 'Mobile' object has no attribute '__display'"
     ]
    }
   ],
   "source": [
    "class Mobile:\n",
    "    def __init__(self, name, model, price):\n",
    "        self.name = name\n",
    "        self.model = model\n",
    "        self.price = price\n",
    "    \n",
    "    def __display(self):\n",
    "        print(f\"Name: {self.name}, Model: {self.model}, Price: {self.price}\")\n",
    "        \n",
    "mob = Mobile(\"Sumsung Glaxy\", \"M10\", 12000)\n",
    "\n",
    "mob.__display()"
   ]
  },
  {
   "cell_type": "code",
   "execution_count": 32,
   "id": "87893672-f70a-45a8-834d-bc3a3dcfa53e",
   "metadata": {},
   "outputs": [
    {
     "name": "stdout",
     "output_type": "stream",
     "text": [
      "Name: Sumsung Glaxy, Model: M10, Price: 12000\n"
     ]
    }
   ],
   "source": [
    "# Accessing Pirvate method\n",
    "\n",
    "mob._Mobile__display()"
   ]
  },
  {
   "cell_type": "markdown",
   "id": "c1558990-0de7-4d26-8d03-9c338e524e94",
   "metadata": {},
   "source": [
    "### Like a duck"
   ]
  },
  {
   "cell_type": "code",
   "execution_count": 33,
   "id": "184a4be1-f361-4008-b03b-ca64123da247",
   "metadata": {},
   "outputs": [
    {
     "name": "stdout",
     "output_type": "stream",
     "text": [
      "compiling\n",
      "running\n",
      "********************\n",
      "compiling\n",
      "running\n",
      "show data type\n"
     ]
    }
   ],
   "source": [
    "class Pycharm:\n",
    "    def execute(self):\n",
    "        print(\"compiling\")\n",
    "        print(\"running\")\n",
    "\n",
    "class VsCode:\n",
    "    def execute(self):\n",
    "        print(\"compiling\")\n",
    "        print(\"running\")\n",
    "        print(\"show data type\")\n",
    "\n",
    "class Laptop:\n",
    "    def code(self, ide):\n",
    "        ide.execute()\n",
    "\n",
    "x = Pycharm()\n",
    "y = VsCode()\n",
    "\n",
    "obj = Laptop()\n",
    "obj.code(x) # pass an object or instance of class Pycharm\n",
    "\n",
    "print('*'*20)\n",
    "\n",
    "obj.code(y) # pass an object or instance of class VsCode"
   ]
  },
  {
   "cell_type": "markdown",
   "id": "2e746186-2ccc-44e5-bdcb-762e2c9a39a1",
   "metadata": {},
   "source": [
    "# Inheritance"
   ]
  },
  {
   "cell_type": "code",
   "execution_count": 34,
   "id": "da577864-afd2-453f-b0bf-756b9c6d5f3e",
   "metadata": {},
   "outputs": [
    {
     "name": "stdout",
     "output_type": "stream",
     "text": [
      "a: alamin, b: bhuyan\n"
     ]
    }
   ],
   "source": [
    "class A:\n",
    "    def __init__(self, a, b):\n",
    "        self.a = a\n",
    "        self.b = b\n",
    "    \n",
    "    def show(self):\n",
    "        print(f\"a: {self.a}, b: {self.b}\")\n",
    "\n",
    "class B(A):\n",
    "    pass\n",
    "\n",
    "\n",
    "obj = B('alamin', 'bhuyan')\n",
    "obj.show()"
   ]
  },
  {
   "cell_type": "code",
   "execution_count": 47,
   "id": "760eb00e-d569-42a4-aed0-28ad217b03d4",
   "metadata": {},
   "outputs": [
    {
     "name": "stdout",
     "output_type": "stream",
     "text": [
      "This is the method of class D\n",
      "(<class '__main__.D'>, <class '__main__.B'>, <class '__main__.C'>, <class '__main__.A'>, <class 'object'>)\n"
     ]
    }
   ],
   "source": [
    "# Dimon shape problem\n",
    "\n",
    "class A:\n",
    "    def method(self):\n",
    "        print(\"This is the method of class A\")\n",
    "\n",
    "class B(A):\n",
    "    def method(self):\n",
    "        print(\"This is the method of class B\")\n",
    "\n",
    "class C(A):\n",
    "    def method(self):\n",
    "        print(\"This is the method of class C\")\n",
    "\n",
    "class D(B,C):\n",
    "    def method(self):\n",
    "        print(\"This is the method of class D\")\n",
    "\n",
    "a = A()\n",
    "b = B()\n",
    "c = C()\n",
    "d = D()\n",
    "d.method()\n",
    "print(D.__mro__)"
   ]
  },
  {
   "cell_type": "code",
   "execution_count": 49,
   "id": "719401a1-52aa-461c-83e3-f87dfca9f2d0",
   "metadata": {},
   "outputs": [
    {
     "name": "stdout",
     "output_type": "stream",
     "text": [
      "I am the base class\n",
      "I am the B class\n",
      "I am the C class\n",
      "I am the D class\n"
     ]
    }
   ],
   "source": [
    "# Hierarchical Inheritance\n",
    "\n",
    "class A:\n",
    "    def display(self):\n",
    "        print(\"I am the base class\")\n",
    "\n",
    "class B(A):\n",
    "    def display2(self):\n",
    "        print(\"I am the B class\")\n",
    "class C(A):\n",
    "    def display3(self):\n",
    "        print(\"I am the C class\")\n",
    "\n",
    "\n",
    "class D(A):\n",
    "    def display4(self):\n",
    "        print(\"I am the D class\")\n",
    "\n",
    "obj = A()\n",
    "obj.display()\n",
    "obj1 = B()\n",
    "obj1.display2()\n",
    "obj2 = C()\n",
    "obj2.display3()\n",
    "obj3 = D()\n",
    "obj3.display4()"
   ]
  },
  {
   "cell_type": "code",
   "execution_count": 53,
   "id": "fb82aaa5-8d1e-47a3-887f-c58764bf7054",
   "metadata": {},
   "outputs": [
    {
     "name": "stdout",
     "output_type": "stream",
     "text": [
      "I am inside the class A\n",
      "I am inside the class B\n",
      "I am inside the class C\n",
      "I am inside the class D\n"
     ]
    }
   ],
   "source": [
    "# Multilevel inheritance\n",
    "\n",
    "class A:\n",
    "    def display(self):\n",
    "        print(\"I am inside the class A\")\n",
    "\n",
    "class B(A):\n",
    "    def display2(self):\n",
    "        print(\"I am inside the class B\")\n",
    "\n",
    "class C(B):\n",
    "    def display3(self):\n",
    "        print(\"I am inside the class C\")\n",
    "\n",
    "\n",
    "class D(C):\n",
    "    def display4(self):\n",
    "        super().display()\n",
    "        super().display2()\n",
    "        super().display3()\n",
    "        print(\"I am inside the class D\")\n",
    "\n",
    "obj = D()\n",
    "obj.display4()"
   ]
  },
  {
   "cell_type": "code",
   "execution_count": 54,
   "id": "2024bea9-b9b8-4f40-884f-6061506147ca",
   "metadata": {},
   "outputs": [
    {
     "name": "stdout",
     "output_type": "stream",
     "text": [
      "I am inside of class A\n",
      "I am inside of class B\n",
      "I am inside of class C\n",
      "I am inside of class D\n",
      "(<class '__main__.D'>, <class '__main__.A'>, <class '__main__.B'>, <class '__main__.C'>, <class 'object'>)\n"
     ]
    }
   ],
   "source": [
    "# Multiple inheritance\n",
    "class A:\n",
    "    def display(self):\n",
    "        print(\"I am inside of class A\")\n",
    "\n",
    "\n",
    "class B:\n",
    "    def display2(self):\n",
    "        print(\"I am inside of class B\")\n",
    "\n",
    "class C:\n",
    "    def display3(self):\n",
    "        print(\"I am inside of class C\")\n",
    "\n",
    "class D(A,B,C):\n",
    "    def display4(self):\n",
    "        super().display()\n",
    "        super().display2()\n",
    "        super().display3()\n",
    "        print(\"I am inside of class D\")\n",
    "\n",
    "\n",
    "obj = D()\n",
    "obj.display4()\n",
    "print(D.__mro__) # method Resolution order"
   ]
  },
  {
   "cell_type": "code",
   "execution_count": null,
   "id": "bfaf828e-ed4d-45aa-b5a9-c9f545b4d94f",
   "metadata": {},
   "outputs": [],
   "source": []
  },
  {
   "cell_type": "code",
   "execution_count": null,
   "id": "95d1507f-bef3-4efb-98ee-2a2b4e537cae",
   "metadata": {},
   "outputs": [],
   "source": []
  },
  {
   "cell_type": "markdown",
   "id": "b07b2c06-cdf6-4780-aee1-0d80db220c4e",
   "metadata": {},
   "source": [
    "### 1) super() method"
   ]
  },
  {
   "cell_type": "code",
   "execution_count": 35,
   "id": "4033ec16-98cc-4eaf-9f32-1f8025eacb18",
   "metadata": {},
   "outputs": [
    {
     "name": "stdout",
     "output_type": "stream",
     "text": [
      "alamin 21 manikkandi\n"
     ]
    }
   ],
   "source": [
    "class A:\n",
    "    def __init__(self, name, age):\n",
    "        self.n = name\n",
    "        self.a = age\n",
    "        \n",
    "    def display(self):\n",
    "        print(self.n,self.a)\n",
    "\n",
    "class B(A):\n",
    "    def __init__(self, n, a, village):\n",
    "        super().__init__(name=n, age=a)\n",
    "        self.village = village\n",
    "        \n",
    "    def display(self):\n",
    "        print(self.n, self.a, self.village)\n",
    "\n",
    "obj = B('alamin',21,'manikkandi')\n",
    "obj.display()"
   ]
  },
  {
   "cell_type": "code",
   "execution_count": 36,
   "id": "8d1cf05e-c018-4002-acfd-e99d6663e422",
   "metadata": {},
   "outputs": [
    {
     "name": "stdout",
     "output_type": "stream",
     "text": [
      "Bird is ready\n",
      "Penguin is ready\n",
      "Penguin\n",
      "Swim faster\n",
      "Run faster\n"
     ]
    }
   ],
   "source": [
    "# parent class\n",
    "class Bird:\n",
    "    def __init__(self):\n",
    "        print(\"Bird is ready\")\n",
    "\n",
    "    def whoisThis(self):\n",
    "        print(\"Bird\")\n",
    "\n",
    "    def swim(self):\n",
    "        print(\"Swim faster\")\n",
    "\n",
    "# child class\n",
    "class Penguin(Bird):\n",
    "    def __init__(self):\n",
    "        # call super() method\n",
    "        super().__init__()\n",
    "        print(\"Penguin is ready\")\n",
    "\n",
    "    def whoisThis(self):\n",
    "        print(\"Penguin\")\n",
    "\n",
    "    def run(self):\n",
    "        print(\"Run faster\")\n",
    "\n",
    "\n",
    "peggy = Penguin()\n",
    "peggy.whoisThis()\n",
    "peggy.swim()\n",
    "peggy.run()"
   ]
  },
  {
   "cell_type": "code",
   "execution_count": 37,
   "id": "8b0e498f-9a6c-485b-974a-f6c910d5fd8d",
   "metadata": {},
   "outputs": [
    {
     "name": "stdout",
     "output_type": "stream",
     "text": [
      "24\n",
      "8\n"
     ]
    }
   ],
   "source": [
    "# Use fo super() method\n",
    "\n",
    "class Rectangle:\n",
    "    def __init__(self,length, width):\n",
    "        self.length = length\n",
    "        self.width = width\n",
    "\n",
    "    def area(self):\n",
    "        return self.length * self.width\n",
    "\n",
    "    def perimeter(self):\n",
    "        return 2 * self.length + 2 * self.width\n",
    "\n",
    "class Square(Rectangle):\n",
    "    def __init__(self, length):\n",
    "        super(Square, self).__init__(length=length, width=length)\n",
    "\n",
    "class Cube(Square):\n",
    "    def surface_area(self):\n",
    "        face_area = super(Square,self).area() # call the super() method\n",
    "        return face_area * 6\n",
    "    \n",
    "    def volume(self):\n",
    "        face_area = super(Square,self).area() # call the super() method\n",
    "        return face_area * self.length \n",
    "\n",
    "cube = Cube(2) # lenght = 2\n",
    "print(cube.surface_area())\n",
    "print(cube.volume())"
   ]
  },
  {
   "cell_type": "code",
   "execution_count": 45,
   "id": "200b196d-9156-4c77-b1ff-72a989432983",
   "metadata": {},
   "outputs": [
    {
     "name": "stdout",
     "output_type": "stream",
     "text": [
      "Dog has foure legs.\n",
      "Dog  can't swim\n",
      "Dog  can't fly\n",
      "Dog  is a warm blooded animal\n",
      "Dog  is an animal\n",
      "\n",
      "Bat  can't swim\n",
      "Bat  is a warm blooded animal\n",
      "Bat  is an animal\n",
      "\n",
      "(<class '__main__.Dog'>, <class '__main__.NonMaringeMammal'>, <class '__main__.NonWingedMammal'>, <class '__main__.Mammal'>, <class '__main__.Animal'>, <class 'object'>)\n"
     ]
    }
   ],
   "source": [
    "class Animal:\n",
    "    def __init__(self,name):\n",
    "        print(name,\" is an animal\")\n",
    "\n",
    "class Mammal(Animal):\n",
    "    def __init__(self,mammal_name):\n",
    "        print(mammal_name,\" is a warm blooded animal\")\n",
    "        super().__init__(mammal_name)\n",
    "\n",
    "class NonWingedMammal(Mammal):\n",
    "    def __init__(self,nonwingedmammal):\n",
    "        print(nonwingedmammal,\" can't fly\")\n",
    "        super().__init__(nonwingedmammal)\n",
    "\n",
    "class NonMaringeMammal(Mammal):\n",
    "    def __init__(self,NonMaringeMammal):\n",
    "        print(NonMaringeMammal,\" can't swim\")\n",
    "        super().__init__(NonMaringeMammal)\n",
    "\n",
    "\n",
    "class Dog(NonMaringeMammal,NonWingedMammal):\n",
    "    def __init__(self):\n",
    "        print(\"Dog has foure legs.\")\n",
    "        super().__init__(\"Dog\")\n",
    "\n",
    "obj = Dog()\n",
    "print()\n",
    "bat = NonMaringeMammal(\"Bat\")\n",
    "print()\n",
    "print(Dog.__mro__) # Method Resolution Order (MRO)"
   ]
  },
  {
   "cell_type": "code",
   "execution_count": null,
   "id": "aabf0ac9-646f-4dc1-9983-da6e25a97d32",
   "metadata": {},
   "outputs": [],
   "source": []
  },
  {
   "cell_type": "code",
   "execution_count": null,
   "id": "e4292782-cda6-423f-bd99-ef4b658bcc91",
   "metadata": {},
   "outputs": [],
   "source": []
  },
  {
   "cell_type": "markdown",
   "id": "034a6763-6b54-43c9-8e0d-5f482bcb87c5",
   "metadata": {},
   "source": [
    "### 2) method overloading"
   ]
  },
  {
   "cell_type": "code",
   "execution_count": 38,
   "id": "70426487-7981-4aa9-82e2-5c04c86ee972",
   "metadata": {},
   "outputs": [
    {
     "name": "stdout",
     "output_type": "stream",
     "text": [
      "10\n"
     ]
    }
   ],
   "source": [
    "# This not efficient way to make method overloading\n",
    "\n",
    "class Myclass:\n",
    "    def add(self,num1=None, num2=None, num3=None):\n",
    "        if num3 is None:\n",
    "            print(num1+num2)\n",
    "        else:\n",
    "            print(num1+num2+num3)\n",
    "\n",
    "\n",
    "obj = Myclass()\n",
    "obj.add(5,5)"
   ]
  },
  {
   "cell_type": "code",
   "execution_count": 39,
   "id": "bdc12966-d4b7-4409-9ad4-5f0c12f35bea",
   "metadata": {},
   "outputs": [
    {
     "name": "stdout",
     "output_type": "stream",
     "text": [
      "10\n",
      "15\n",
      "22.5\n"
     ]
    }
   ],
   "source": [
    "# although python don't support method overlodding but we can do it in different way\n",
    "\n",
    "import multipledispatch\n",
    "\n",
    "class Myclass:\n",
    "    @multipledispatch.dispatch(int, int)\n",
    "    def addition(self,n1,n2):\n",
    "        print(n1+n2)\n",
    "\n",
    "    @multipledispatch.dispatch(int, int,int)\n",
    "    def addition(self, n1, n2,n3):\n",
    "        print(n1 + n2+n3)\n",
    "\n",
    "    @multipledispatch.dispatch(int, int,float)\n",
    "    def addition(self, n1, n2,n3):\n",
    "        print(n1 + n2*n3)\n",
    "\n",
    "\n",
    "obj = Myclass()\n",
    "obj.addition(5,5)\n",
    "obj.addition(5,5,5)\n",
    "obj.addition(5,5,3.5)"
   ]
  },
  {
   "cell_type": "markdown",
   "id": "63728331-cb30-437a-bad3-3985a92a3d24",
   "metadata": {},
   "source": [
    "## 2.1) Method overriding"
   ]
  },
  {
   "cell_type": "code",
   "execution_count": 51,
   "id": "91cc4eb1-4d25-4808-aafb-c3b7e48a32af",
   "metadata": {},
   "outputs": [
    {
     "name": "stdout",
     "output_type": "stream",
     "text": [
      "This is class A \n",
      "This the class B \n",
      "This the class C \n",
      "This the class D \n"
     ]
    }
   ],
   "source": [
    "# example of method overriding\n",
    "class A:\n",
    "    \n",
    "    def __init__(self):\n",
    "        print(\"This is class A \")\n",
    "\n",
    "class B(A):\n",
    "    def __init__(self):\n",
    "        super(). __init__()\n",
    "        print(\"This the class B \")\n",
    "\n",
    "class C(B):\n",
    "    def __init__(self):\n",
    "        super(). __init__()\n",
    "        print(\"This the class C \")\n",
    "\n",
    "\n",
    "class D(C):\n",
    "    def __init__(self):\n",
    "        super(). __init__()\n",
    "        print(\"This the class D \")\n",
    "\n",
    "\n",
    "obj = D()"
   ]
  },
  {
   "cell_type": "code",
   "execution_count": 52,
   "id": "a5d4c017-147e-4962-9518-9272e680e66f",
   "metadata": {},
   "outputs": [
    {
     "name": "stdout",
     "output_type": "stream",
     "text": [
      "I am cat. My name is tom. I am 21 years old\n",
      "Meow\n",
      "I am cat. My name is jarry. I am 22 years old\n",
      "Brak\n"
     ]
    }
   ],
   "source": [
    "class Cat:\n",
    "    def __init__(self,name,age):\n",
    "        self.name = name\n",
    "        self.age = age\n",
    "        \n",
    "    def info(self):\n",
    "        print(f\"I am cat. My name is {self.name}. I am {self.age} years old\")\n",
    "\n",
    "    def make_sound(self):\n",
    "        print(\"Meow\")\n",
    "\n",
    "class Dog:\n",
    "    def __init__(self,name,age):\n",
    "        self.name = name\n",
    "        self.age = age\n",
    "\n",
    "    def info(self):\n",
    "        print(f\"I am cat. My name is {self.name}. I am {self.age} years old\")\n",
    "\n",
    "    def make_sound(self):\n",
    "        print(\"Brak\")\n",
    "\n",
    "cat_obj = Cat(\"tom\",21)\n",
    "dog_obj = Dog(\"jarry\",22)\n",
    "\n",
    "for obj in (cat_obj,dog_obj):\n",
    "    obj.info()\n",
    "    obj.make_sound()"
   ]
  },
  {
   "cell_type": "markdown",
   "id": "84f79e75-29a1-46ed-b4b4-e5357dd6a420",
   "metadata": {},
   "source": [
    "### 3) Polimorphism"
   ]
  },
  {
   "cell_type": "code",
   "execution_count": 40,
   "id": "5f4c6782-4052-45e3-afdd-43e4a7fb6b2a",
   "metadata": {},
   "outputs": [
    {
     "name": "stdout",
     "output_type": "stream",
     "text": [
      "Parrot can fly\n",
      "Parrot can't swim\n",
      "Penguin can't fly\n",
      "Penguin can swim\n"
     ]
    }
   ],
   "source": [
    "class Parrot:\n",
    "    def fly(self):\n",
    "        print(\"Parrot can fly\")\n",
    "\n",
    "    def swim(self):\n",
    "        print(\"Parrot can't swim\")\n",
    "\n",
    "\n",
    "class Penguin:\n",
    "    def fly(self):\n",
    "        print(\"Penguin can't fly\")\n",
    "\n",
    "    def swim(self):\n",
    "        print(\"Penguin can swim\")\n",
    "\n",
    "\n",
    "# common interface\n",
    "def flying_test(bird):\n",
    "    bird.fly()\n",
    "    bird.swim()\n",
    "\n",
    "\n",
    "# instantiate objects\n",
    "blu = Parrot()\n",
    "peggy = Penguin()\n",
    "\n",
    "# passing the object. it is also called pass by references\n",
    "flying_test(blu)\n",
    "flying_test(peggy)"
   ]
  },
  {
   "cell_type": "code",
   "execution_count": 41,
   "id": "d9ff136b-e43a-4485-9da7-43d84ee00868",
   "metadata": {},
   "outputs": [
    {
     "name": "stdout",
     "output_type": "stream",
     "text": [
      "Bengali is the mother language of bangladesh people\n",
      "Dhaka is the capital of bangladesh\n",
      "Bangladesh is the developing country\n",
      "**************************************************\n",
      "Urdu is the mother language of pakistan people\n",
      "Islamabad is the capital of pakistan\n",
      "Pakistan is the developing country\n",
      "**************************************************\n"
     ]
    }
   ],
   "source": [
    "class Bangladesh:\n",
    "    def language(self):\n",
    "        print(\"Bengali is the mother language of bangladesh people\")\n",
    "        \n",
    "    def capital(self):\n",
    "        print(\"Dhaka is the capital of bangladesh\")\n",
    "        \n",
    "    def country_type(self):\n",
    "        print('Bangladesh is the developing country')\n",
    "\n",
    "class Pakistan:\n",
    "    def language(self):\n",
    "        print(\"Urdu is the mother language of pakistan people\")\n",
    "        \n",
    "    def capital(self):\n",
    "        print(\"Islamabad is the capital of pakistan\")\n",
    "        \n",
    "    def country_type(self):\n",
    "        print('Pakistan is the developing country')\n",
    "\n",
    "ban = Bangladesh()\n",
    "\n",
    "pak = Pakistan()\n",
    "\n",
    "for i in (ban,pak):\n",
    "    i.language()\n",
    "    i.capital()\n",
    "    i.country_type()\n",
    "    print(\"*\"*50)"
   ]
  },
  {
   "cell_type": "code",
   "execution_count": 42,
   "id": "74e18888-8bdc-43eb-89e9-2091d850ae79",
   "metadata": {},
   "outputs": [
    {
     "name": "stdout",
     "output_type": "stream",
     "text": [
      "Bengali is the mother language of bangladesh people\n",
      "Dhaka is the capital of bangladesh\n",
      "Bangladesh is the developing country\n",
      "**************************************************\n",
      "Urdu is the mother language of pakistan people\n",
      "Islamabad is the capital of pakistan\n",
      "Pakistan is the developing country\n"
     ]
    }
   ],
   "source": [
    "class Bangladesh:\n",
    "    def language(self):\n",
    "        print(\"Bengali is the mother language of bangladesh people\")\n",
    "\n",
    "    def capital(self):\n",
    "        print(\"Dhaka is the capital of bangladesh\")\n",
    "\n",
    "    def country_type(self):\n",
    "        print('Bangladesh is the developing country')\n",
    "\n",
    "class Pakistan:\n",
    "    def language(self):\n",
    "        print(\"Urdu is the mother language of pakistan people\")\n",
    "\n",
    "    def capital(self):\n",
    "        print(\"Islamabad is the capital of pakistan\")\n",
    "\n",
    "    def country_type(self):\n",
    "        print('Pakistan is the developing country')\n",
    "\n",
    "def function(obj):\n",
    "    obj.language()\n",
    "    obj.capital()\n",
    "    obj.country_type()\n",
    "\n",
    "ban = Bangladesh()\n",
    "pak = Pakistan()\n",
    "\n",
    "function(ban)\n",
    "print(\"*\"*50)\n",
    "function(pak)"
   ]
  },
  {
   "cell_type": "markdown",
   "id": "16127b2a-c03d-4038-90be-3842e2fa4780",
   "metadata": {},
   "source": [
    "### 4) Abstraction"
   ]
  },
  {
   "cell_type": "code",
   "execution_count": 46,
   "id": "79ea1c1e-7a54-4a0d-9fea-a1778a0f3fb5",
   "metadata": {},
   "outputs": [
    {
     "name": "stdout",
     "output_type": "stream",
     "text": [
      "The area fo Triangle is:  100.0\n",
      "The area fo Triangle is:  20\n"
     ]
    }
   ],
   "source": [
    "# if we want to abstraction function then we add\n",
    "\n",
    "from abc import ABC,abstractmethod\n",
    "\n",
    "class Shape(ABC):\n",
    "    def __init__(self, dim1, dim2):\n",
    "        self.dim1 = dim1\n",
    "        self.dim2 = dim2\n",
    "        \n",
    "    @abstractmethod\n",
    "    def area(self):\n",
    "        pass\n",
    "\n",
    "class triangle(Shape):\n",
    "    def area(self):\n",
    "        area = 0.5 * self.dim1 * self.dim2\n",
    "        print(\"The area fo Triangle is: \",area)\n",
    "\n",
    "\n",
    "\n",
    "class rectangle(Shape):\n",
    "    def area(self):\n",
    "        area = self.dim1 * self.dim2\n",
    "        print(\"The area fo Triangle is: \",area)\n",
    "\n",
    "\n",
    "obj = triangle(10,20)\n",
    "obj.area()\n",
    "\n",
    "obj2 = rectangle(4,5)\n",
    "obj2.area()"
   ]
  },
  {
   "cell_type": "markdown",
   "id": "4090a571-f6c0-4c60-8009-e84600db88c0",
   "metadata": {},
   "source": [
    "### 5) Encupsulation"
   ]
  },
  {
   "cell_type": "code",
   "execution_count": 48,
   "id": "dde2aca5-0de1-4d92-9e69-780e26d2ea49",
   "metadata": {},
   "outputs": [
    {
     "name": "stdout",
     "output_type": "stream",
     "text": [
      "selling price 10000\n",
      "selling price 10000\n",
      "selling price 30000\n"
     ]
    }
   ],
   "source": [
    "class computer:\n",
    "    def __init__(self):\n",
    "        self.__maxprice = 10000\n",
    "        \n",
    "    def sells(self):\n",
    "        print(f'selling price {self.__maxprice}')\n",
    "        \n",
    "    def setter(self,price):\n",
    "        self.__maxprice = price\n",
    "\n",
    "obj = computer()\n",
    "obj.sells()\n",
    "obj.__maxprice = 20000\n",
    "obj.sells()\n",
    "obj.setter(30000)\n",
    "obj.sells()"
   ]
  },
  {
   "cell_type": "markdown",
   "id": "f270a6fb-791d-47dd-82e8-bf9805e1de3f",
   "metadata": {},
   "source": [
    "## Nested class"
   ]
  },
  {
   "cell_type": "code",
   "execution_count": 43,
   "id": "ca93bfd7-e8cb-46a6-aa23-29c352a49425",
   "metadata": {},
   "outputs": [
    {
     "name": "stdout",
     "output_type": "stream",
     "text": [
      "alamin\n",
      "4 6 1999\n"
     ]
    }
   ],
   "source": [
    "class Outter:\n",
    "    def __init__(self):\n",
    "        self.name = \"alamin\"\n",
    "        self.dob = self.Dob()\n",
    "\n",
    "    def display(self):\n",
    "        print(self.name)\n",
    "\n",
    "    class Dob:\n",
    "        def __init__(self):\n",
    "            self.dd = 4\n",
    "            self.mm = 6\n",
    "            self.yy = 1999\n",
    "\n",
    "        def display(self):\n",
    "            print(self.dd,self.mm,self.yy)\n",
    "\n",
    "obj = Outter()\n",
    "\n",
    "obj.display()\n",
    "\n",
    "x = obj.dob\n",
    "\n",
    "x.display()\n",
    "\n",
    "# obj.dob.display() # we can also use this to access"
   ]
  },
  {
   "cell_type": "code",
   "execution_count": 44,
   "id": "221a7fb9-aefe-43c6-ae2d-cb3bc6f533a8",
   "metadata": {},
   "outputs": [
    {
     "name": "stdout",
     "output_type": "stream",
     "text": [
      "Child class\n",
      "In parent class\n",
      "Inner of parent class\n",
      "Child inner class\n",
      "time required:  0.0\n"
     ]
    }
   ],
   "source": [
    "class A:\n",
    "    def __init__(self):\n",
    "        self.inner = self.Inner()\n",
    "\n",
    "    def display(self):\n",
    "        print('In parent class')\n",
    "\n",
    "    class Inner:\n",
    "        def display1(self):\n",
    "            print('Inner of parent class')\n",
    "class B(A):\n",
    "    def __init__(self):\n",
    "        print('Child class')\n",
    "        super().__init__()\n",
    "        \n",
    "    class Inner(A.Inner):\n",
    "        def display2(self):\n",
    "            print('Child inner class')\n",
    "\n",
    "            \n",
    "from time import time\n",
    "\n",
    "t1 = time()\n",
    "\n",
    "obj = B()\n",
    "\n",
    "obj.display()\n",
    "\n",
    "x = obj.inner\n",
    "\n",
    "x.display1()\n",
    "\n",
    "x.display2()\n",
    "\n",
    "t2 = time()\n",
    "print('time required: ',t2-t1)"
   ]
  },
  {
   "cell_type": "code",
   "execution_count": null,
   "id": "9b2f6192-8d2f-4281-a6f4-52f173f62af1",
   "metadata": {},
   "outputs": [],
   "source": []
  }
 ],
 "metadata": {
  "kernelspec": {
   "display_name": "Python 3 (ipykernel)",
   "language": "python",
   "name": "python3"
  },
  "language_info": {
   "codemirror_mode": {
    "name": "ipython",
    "version": 3
   },
   "file_extension": ".py",
   "mimetype": "text/x-python",
   "name": "python",
   "nbconvert_exporter": "python",
   "pygments_lexer": "ipython3",
   "version": "3.10.5"
  }
 },
 "nbformat": 4,
 "nbformat_minor": 5
}
