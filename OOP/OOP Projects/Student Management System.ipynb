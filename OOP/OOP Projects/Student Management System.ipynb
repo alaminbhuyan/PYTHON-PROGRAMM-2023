{
 "cells": [
  {
   "cell_type": "markdown",
   "id": "011b7b8d",
   "metadata": {},
   "source": [
    "### Description"
   ]
  },
  {
   "cell_type": "markdown",
   "id": "710921e3",
   "metadata": {},
   "source": [
    "A program that manages a list of students, allowing users to add, search, update, and delete student records."
   ]
  },
  {
   "cell_type": "code",
   "execution_count": 1,
   "id": "a5e5e293",
   "metadata": {},
   "outputs": [],
   "source": [
    "class Student:\n",
    "    def __init__(self, ID:int, name:str, age:int, gpa:float, address:str):\n",
    "        self.stu_id = ID\n",
    "        self.stu_name = name\n",
    "        self.stu_age = age\n",
    "        self.stu_gpa = gpa\n",
    "        self.stu_address = address\n",
    "        \n",
    "\n",
    "class StudentManager:\n",
    "    def __init__(self):\n",
    "        self.stu_list = []\n",
    "    \n",
    "    def add_student(self, student):\n",
    "        self.stu_list.append(student)\n",
    "        \n",
    "    def search_student(self, stu_id:int):\n",
    "        if type(stu_id) == int:\n",
    "            for stu in self.stu_list:\n",
    "                if stu.stu_id == stu_id:\n",
    "                    return stu\n",
    "            return None\n",
    "        else:\n",
    "            print(\"Please Student should be Integer\")\n",
    "            exit()\n",
    "            \n",
    "    def update_student(self, ID:int, name:str, age:int=None, gpa:float=None, address:str=None):\n",
    "        student = self.search_student(stu_id=ID)\n",
    "        if student:\n",
    "            if name:\n",
    "                student.stu_name = name\n",
    "            if age:\n",
    "                student.stu_age = age\n",
    "            if gpa:\n",
    "                student.stu_gpa = gpa\n",
    "            if address:\n",
    "                student.stu_address = address\n",
    "    \n",
    "    \n",
    "    def delete_student(self):\n",
    "        pass\n",
    "    "
   ]
  },
  {
   "cell_type": "code",
   "execution_count": 2,
   "id": "5ed8c9ef",
   "metadata": {},
   "outputs": [],
   "source": [
    "def show_info(stu):\n",
    "    print(f\"ID: {stu.stu_id}, Name: {stu.stu_name}, Age: {stu.stu_age}, GPA: {stu.stu_gpa}, Address: {stu.stu_address}\")"
   ]
  },
  {
   "cell_type": "code",
   "execution_count": 3,
   "id": "e5485f39",
   "metadata": {},
   "outputs": [
    {
     "name": "stdout",
     "output_type": "stream",
     "text": [
      "ID: 1030, Name: Alamin, Age: 23, GPA: 3.93, Address: Uttara, Dhaka-1230\n"
     ]
    }
   ],
   "source": [
    "stu1 = Student(ID=1030, name=\"Alamin\", age=23, gpa=3.93, address=\"Uttara, Dhaka-1230\")\n",
    "\n",
    "stu_manager1 = StudentManager()\n",
    "\n",
    "stu_manager1.add_student(student=stu1)\n",
    "\n",
    "result = stu_manager1.search_student(1030)\n",
    "\n",
    "show_info(result)"
   ]
  },
  {
   "cell_type": "code",
   "execution_count": 4,
   "id": "2ba08550",
   "metadata": {},
   "outputs": [
    {
     "name": "stdout",
     "output_type": "stream",
     "text": [
      "Please Student should be Integer\n"
     ]
    }
   ],
   "source": [
    "stu2 = Student(ID=1030, name=\"Tania\", age=24, gpa=3.95, address=\"Uttara, Dhaka-1230\")\n",
    "\n",
    "stu_manager2 = StudentManager()\n",
    "\n",
    "stu_manager2.add_student(student=stu2)\n",
    "\n",
    "result = stu_manager2.search_student(\"1030\")\n",
    "\n",
    "# show_info(result)"
   ]
  },
  {
   "attachments": {
    "image.png": {
     "image/png": "[encoded data removed]"
    }
   },
   "cell_type": "markdown",
   "id": "85c81e9c",
   "metadata": {},
   "source": [
    "![image.png](attachment:image.png)"
   ]
  },
  {
   "cell_type": "code",
   "execution_count": null,
   "id": "90963e87",
   "metadata": {},
   "outputs": [],
   "source": []
  }
 ],
 "metadata": {
  "kernelspec": {
   "display_name": "Python 3 (ipykernel)",
   "language": "python",
   "name": "python3"
  },
  "language_info": {
   "codemirror_mode": {
    "name": "ipython",
    "version": 3
   },
   "file_extension": ".py",
   "mimetype": "text/x-python",
   "name": "python",
   "nbconvert_exporter": "python",
   "pygments_lexer": "ipython3",
   "version": "3.11.2"
  }
 },
 "nbformat": 4,
 "nbformat_minor": 5
}
