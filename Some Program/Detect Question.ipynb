{
 "cells": [
  {
   "cell_type": "code",
   "execution_count": 1,
   "id": "8a0e24d2-9d47-43a4-8848-39aedf4381ef",
   "metadata": {},
   "outputs": [],
   "source": [
    "from nltk.tokenize import word_tokenize"
   ]
  },
  {
   "cell_type": "code",
   "execution_count": 2,
   "id": "77985817-5b0e-4f5b-aed1-7bdb2dead0aa",
   "metadata": {},
   "outputs": [],
   "source": [
    "question_words = [\"what\", \"why\", \"when\", \"where\", \"name\", \"is\", \"how\", \"do\", \"does\", \"which\",\n",
    "                 \"are\", \"could\", \"would\", \"should\", \"has\", \"have\", \"whom\", \"shall\", \"will\", \"whose\",\n",
    "                 \"don't\"]"
   ]
  },
  {
   "cell_type": "code",
   "execution_count": 3,
   "id": "66447181-bf88-4b17-a4d3-961f22d7fc67",
   "metadata": {},
   "outputs": [
    {
     "name": "stdin",
     "output_type": "stream",
     "text": [
      "Input a sentence:  what is your name\n"
     ]
    },
    {
     "name": "stdout",
     "output_type": "stream",
     "text": [
      "This is a question\n"
     ]
    }
   ],
   "source": [
    "question = input(\"Input a sentence: \")\n",
    "\n",
    "question = question.lower()\n",
    "\n",
    "question = word_tokenize(text=question)\n",
    "\n",
    "if any(x in question[0] for x in question_words):\n",
    "    print(\"This is a question\")\n",
    "else:\n",
    "    print(\"This is not a question\")"
   ]
  },
  {
   "cell_type": "markdown",
   "id": "8b6fe6aa-eb46-4c4e-9edc-005e03583211",
   "metadata": {},
   "source": [
    "### Another way"
   ]
  },
  {
   "cell_type": "code",
   "execution_count": 7,
   "id": "5788c3b5-b526-401f-ad93-826f4e45d547",
   "metadata": {},
   "outputs": [
    {
     "name": "stdin",
     "output_type": "stream",
     "text": [
      "Enter your text:  is there any problem?\n"
     ]
    },
    {
     "name": "stdout",
     "output_type": "stream",
     "text": [
      "Yes this a question\n"
     ]
    }
   ],
   "source": [
    "text = input(\"Enter your text: \")\n",
    "\n",
    "print(\"Yes this a question\") if '?' in text[-1] else print(\"This is not a question\")"
   ]
  },
  {
   "cell_type": "code",
   "execution_count": null,
   "id": "15ebcad7-16d4-4edb-ac75-042331a34581",
   "metadata": {},
   "outputs": [],
   "source": []
  }
 ],
 "metadata": {
  "kernelspec": {
   "display_name": "Python 3 (ipykernel)",
   "language": "python",
   "name": "python3"
  },
  "language_info": {
   "codemirror_mode": {
    "name": "ipython",
    "version": 3
   },
   "file_extension": ".py",
   "mimetype": "text/x-python",
   "name": "python",
   "nbconvert_exporter": "python",
   "pygments_lexer": "ipython3",
   "version": "3.10.5"
  }
 },
 "nbformat": 4,
 "nbformat_minor": 5
}
